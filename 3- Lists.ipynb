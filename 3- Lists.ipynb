{
 "cells": [
  {
   "cell_type": "code",
   "execution_count": 7,
   "metadata": {},
   "outputs": [
    {
     "name": "stdout",
     "output_type": "stream",
     "text": [
      "['C', 'C++', 'Python']\n",
      "['P', 'y', 't', 'h', 'o', 'n']\n",
      "['C', '++', 'Python']\n"
     ]
    }
   ],
   "source": [
    "# Creating list - 2 ways: [] and list()\n",
    "\n",
    "languages1= ['C', 'C++', 'Python']\n",
    "print(languages1)\n",
    "\n",
    "\n",
    "lang = list(\"Python\")\n",
    "print(lang)\n",
    "\n",
    "languages2= list(['C', '++', 'Python'])\n",
    "print(languages2)"
   ]
  },
  {
   "cell_type": "code",
   "execution_count": 8,
   "metadata": {},
   "outputs": [
    {
     "name": "stdout",
     "output_type": "stream",
     "text": [
      "C\n",
      "Python\n",
      "Python\n"
     ]
    },
    {
     "ename": "IndexError",
     "evalue": "list index out of range",
     "output_type": "error",
     "traceback": [
      "\u001b[0;31m---------------------------------------------------------------------------\u001b[0m",
      "\u001b[0;31mIndexError\u001b[0m                                Traceback (most recent call last)",
      "\u001b[0;32m<ipython-input-8-5dd3c09e92f0>\u001b[0m in \u001b[0;36m<module>\u001b[0;34m\u001b[0m\n\u001b[1;32m      2\u001b[0m \u001b[0mprint\u001b[0m\u001b[0;34m(\u001b[0m\u001b[0mlanguages1\u001b[0m\u001b[0;34m[\u001b[0m\u001b[0;36m2\u001b[0m\u001b[0;34m]\u001b[0m\u001b[0;34m)\u001b[0m\u001b[0;34m\u001b[0m\u001b[0;34m\u001b[0m\u001b[0m\n\u001b[1;32m      3\u001b[0m \u001b[0mprint\u001b[0m\u001b[0;34m(\u001b[0m\u001b[0mlanguages1\u001b[0m\u001b[0;34m[\u001b[0m\u001b[0;34m-\u001b[0m\u001b[0;36m1\u001b[0m\u001b[0;34m]\u001b[0m\u001b[0;34m)\u001b[0m \u001b[0;31m#Negative index; -1 prints last item\u001b[0m\u001b[0;34m\u001b[0m\u001b[0;34m\u001b[0m\u001b[0m\n\u001b[0;32m----> 4\u001b[0;31m \u001b[0mprint\u001b[0m\u001b[0;34m(\u001b[0m\u001b[0mlanguages1\u001b[0m\u001b[0;34m[\u001b[0m\u001b[0;36m4\u001b[0m\u001b[0;34m]\u001b[0m\u001b[0;34m)\u001b[0m\u001b[0;34m\u001b[0m\u001b[0;34m\u001b[0m\u001b[0m\n\u001b[0m",
      "\u001b[0;31mIndexError\u001b[0m: list index out of range"
     ]
    }
   ],
   "source": [
    "print(languages1[0])\n",
    "print(languages1[2])\n",
    "print(languages1[-1]) #Negative index; -1 prints last item\n",
    "print(languages1[4])"
   ]
  },
  {
   "cell_type": "code",
   "execution_count": 9,
   "metadata": {},
   "outputs": [
    {
     "name": "stdout",
     "output_type": "stream",
     "text": [
      "['C', 'C++', 'Python']\n",
      "['C', 'C++']\n",
      "['C', 'C++']\n",
      "['C', 'C++', 'Python']\n"
     ]
    }
   ],
   "source": [
    "#List slicing\n",
    "\n",
    "print(languages1[0:3])\n",
    "print(languages1[0:2])\n",
    "print(languages1[:2])\n",
    "print(languages1[0:])"
   ]
  },
  {
   "cell_type": "code",
   "execution_count": 10,
   "metadata": {},
   "outputs": [
    {
     "name": "stdout",
     "output_type": "stream",
     "text": [
      "['C', 'C++', 'Python', 'JavaScript']\n"
     ]
    }
   ],
   "source": [
    "# Add item at the end of the list. .append() updates variable languages1\n",
    "\n",
    "languages1.append('JavaScript')  \n",
    "print(languages1)"
   ]
  },
  {
   "cell_type": "code",
   "execution_count": 11,
   "metadata": {},
   "outputs": [
    {
     "name": "stdout",
     "output_type": "stream",
     "text": [
      "['C', 'C++', 'Java', 'Python', 'JavaScript']\n",
      "['C', 'C++', 'Java', ['Ruby', 'Scala', 'Swift'], 'Python', 'JavaScript']\n"
     ]
    }
   ],
   "source": [
    "# .insert() method does not override anything. updates variable\n",
    "\n",
    "languages1.insert(2, 'Java')  # insert one element\n",
    "print(languages1)\n",
    "\n",
    "#####\n",
    "languages2 = ['Ruby', 'Scala', 'Swift']   # insert list of elements\n",
    "languages1.insert(3, languages2)\n",
    "print(languages1)              # list of elements are inserted as such"
   ]
  },
  {
   "cell_type": "code",
   "execution_count": 12,
   "metadata": {
    "scrolled": true
   },
   "outputs": [
    {
     "data": {
      "text/plain": [
       "['C',\n",
       " 'C++',\n",
       " 'Java',\n",
       " ['Ruby', 'Scala', 'Swift'],\n",
       " 'Python',\n",
       " 'Perl',\n",
       " 'JavaScript']"
      ]
     },
     "execution_count": 12,
     "metadata": {},
     "output_type": "execute_result"
    }
   ],
   "source": [
    "# .insert() - inserts object before index\n",
    "\n",
    "languages1.insert(-1, 'Perl')\n",
    "languages1"
   ]
  },
  {
   "cell_type": "code",
   "execution_count": 13,
   "metadata": {},
   "outputs": [
    {
     "name": "stdout",
     "output_type": "stream",
     "text": [
      "['C', 'C++', 'Java', ['Ruby', 'Scala', 'Swift'], 'Python', 'Perl', 'JavaScript', ['Ruby', 'Scala', 'Swift']]\n"
     ]
    }
   ],
   "source": [
    "# add list of elements using .append()\n",
    "\n",
    "languages1.append(languages2)\n",
    "print(languages1)    # "
   ]
  },
  {
   "cell_type": "code",
   "execution_count": 14,
   "metadata": {},
   "outputs": [
    {
     "name": "stdout",
     "output_type": "stream",
     "text": [
      "['C', 'C++', 'Java', ['Ruby', 'Scala', 'Swift'], 'Python', 'Perl', 'JavaScript', ['Ruby', 'Scala', 'Swift'], 'Ruby', 'Scala', 'Swift']\n"
     ]
    }
   ],
   "source": [
    "# .extend() method adds list of elements at the end of the list\n",
    "# .extend() - Extend list by appending elements from the iterable\n",
    "\n",
    "languages1.extend(languages2) # Since insert already updated the languages1 variable, we can find them twice in output\n",
    "print(languages1)            # elements are not added as list"
   ]
  },
  {
   "cell_type": "code",
   "execution_count": 15,
   "metadata": {},
   "outputs": [],
   "source": [
    "# Now, let's see removing elements\n"
   ]
  },
  {
   "cell_type": "code",
   "execution_count": 9,
   "metadata": {},
   "outputs": [
    {
     "name": "stdout",
     "output_type": "stream",
     "text": [
      "['C', 'C++', ['Ruby', 'Scala', 'Swift'], 'Python', 'JavaScript', ['Ruby', 'Scala', 'Swift'], 'Ruby', 'Scala', 'Swift']\n",
      "['C', 'C++', 'Python', 'JavaScript', ['Ruby', 'Scala', 'Swift'], 'Ruby', 'Scala', 'Swift']\n"
     ]
    }
   ],
   "source": [
    "# .remove() - removes element or list of elements at its/their first occurence\n",
    "\n",
    "languages1.remove('Java')\n",
    "print(languages1)         # Java is removed now\n",
    "\n",
    "\n",
    "#########\n",
    "languages1.remove(['Ruby', 'Scala', 'Swift'])\n",
    "print(languages1)"
   ]
  },
  {
   "cell_type": "code",
   "execution_count": 10,
   "metadata": {},
   "outputs": [
    {
     "name": "stdout",
     "output_type": "stream",
     "text": [
      "['C', 'C++', 'Python', 'JavaScript', ['Ruby', 'Scala', 'Swift'], 'Ruby', 'Scala']\n",
      "Swift\n"
     ]
    }
   ],
   "source": [
    "# .pop() - It removes last element of list, by default\n",
    "# Removed element can be stored\n",
    "\n",
    "popped_lang = languages1.pop() \n",
    "print(languages1)\n",
    "\n",
    "print(popped_lang)"
   ]
  },
  {
   "cell_type": "code",
   "execution_count": 11,
   "metadata": {},
   "outputs": [
    {
     "name": "stdout",
     "output_type": "stream",
     "text": [
      "['C', 'C++', 'Python', 'JavaScript', ['Ruby', 'Scala', 'Swift'], 'Scala']\n",
      "\n",
      "\n",
      "Ruby\n"
     ]
    }
   ],
   "source": [
    "#removing element by passing index value to .pop()\n",
    "\n",
    "popped_lang2 = languages1.pop(-2) \n",
    "print(languages1)\n",
    "print('\\n')\n",
    "print(popped_lang2)"
   ]
  },
  {
   "cell_type": "code",
   "execution_count": 12,
   "metadata": {},
   "outputs": [
    {
     "name": "stdout",
     "output_type": "stream",
     "text": [
      "['Scala', ['Ruby', 'Scala', 'Swift'], 'JavaScript', 'Python', 'C++', 'C']\n"
     ]
    }
   ],
   "source": [
    "# .reverse() method -reverses list; change happens in place. It does not sort the list while reversing\n",
    "\n",
    "languages1.reverse() \n",
    "print(languages1)"
   ]
  },
  {
   "cell_type": "code",
   "execution_count": 13,
   "metadata": {},
   "outputs": [
    {
     "ename": "TypeError",
     "evalue": "'<' not supported between instances of 'list' and 'str'",
     "output_type": "error",
     "traceback": [
      "\u001b[0;31m---------------------------------------------------------------------------\u001b[0m",
      "\u001b[0;31mTypeError\u001b[0m                                 Traceback (most recent call last)",
      "\u001b[0;32m<ipython-input-13-4baf149074a2>\u001b[0m in \u001b[0;36m<module>\u001b[0;34m\u001b[0m\n\u001b[1;32m      2\u001b[0m \u001b[0;31m# Remember that sorting happens when all the elements of list are of same data type\u001b[0m\u001b[0;34m\u001b[0m\u001b[0;34m\u001b[0m\u001b[0;34m\u001b[0m\u001b[0m\n\u001b[1;32m      3\u001b[0m \u001b[0;34m\u001b[0m\u001b[0m\n\u001b[0;32m----> 4\u001b[0;31m \u001b[0mlanguages1\u001b[0m\u001b[0;34m.\u001b[0m\u001b[0msort\u001b[0m\u001b[0;34m(\u001b[0m\u001b[0;34m)\u001b[0m\u001b[0;34m\u001b[0m\u001b[0;34m\u001b[0m\u001b[0m\n\u001b[0m\u001b[1;32m      5\u001b[0m \u001b[0mprint\u001b[0m\u001b[0;34m(\u001b[0m\u001b[0mlanguages1\u001b[0m\u001b[0;34m)\u001b[0m\u001b[0;34m\u001b[0m\u001b[0;34m\u001b[0m\u001b[0m\n",
      "\u001b[0;31mTypeError\u001b[0m: '<' not supported between instances of 'list' and 'str'"
     ]
    }
   ],
   "source": [
    "# .sort() method - sorts elements of list\n",
    "# Remember that sorting happens when all the elements of list are of same data type\n",
    "\n",
    "languages1.sort()\n",
    "print(languages1)"
   ]
  },
  {
   "cell_type": "code",
   "execution_count": 14,
   "metadata": {},
   "outputs": [
    {
     "name": "stdout",
     "output_type": "stream",
     "text": [
      "['Scala', 'JavaScript', 'Python', 'C++', 'C']\n"
     ]
    }
   ],
   "source": [
    "# remove elements list from the list \n",
    "\n",
    "languages1.remove(['Ruby', 'Scala', 'Swift'])\n",
    "print(languages1)"
   ]
  },
  {
   "cell_type": "code",
   "execution_count": 15,
   "metadata": {},
   "outputs": [
    {
     "name": "stdout",
     "output_type": "stream",
     "text": [
      "['C', 'C++', 'JavaScript', 'Python', 'Scala']\n"
     ]
    }
   ],
   "source": [
    "# change happens in place. 1st priority is given to caps(1st letter). Once they r all done then, small letter \n",
    "\n",
    "languages1.sort()\n",
    "print(languages1)"
   ]
  },
  {
   "cell_type": "code",
   "execution_count": 16,
   "metadata": {},
   "outputs": [
    {
     "name": "stdout",
     "output_type": "stream",
     "text": [
      "[1, 2, 2, 3, 3, 4, 8, 9]\n"
     ]
    }
   ],
   "source": [
    "nums = [2, 1, 4, 8, 2, 3, 9, 3]\n",
    "nums.sort()\n",
    "print(nums)\n",
    "\n",
    "# if sorting is for characters then, it happends as per ASCII code"
   ]
  },
  {
   "cell_type": "code",
   "execution_count": 17,
   "metadata": {},
   "outputs": [
    {
     "name": "stdout",
     "output_type": "stream",
     "text": [
      "[9, 8, 4, 3, 3, 2, 2, 1]\n"
     ]
    }
   ],
   "source": [
    "nums.sort(reverse=True)\n",
    "print(nums)"
   ]
  },
  {
   "cell_type": "code",
   "execution_count": 18,
   "metadata": {},
   "outputs": [
    {
     "name": "stdout",
     "output_type": "stream",
     "text": [
      "[2, 1, 4, 8, 2, 3, 9, 3]\n",
      "[1, 2, 2, 3, 3, 4, 8, 9]\n"
     ]
    }
   ],
   "source": [
    "# suppose if we dont want to alter in place (update variable) then, we can use sorted() function\n",
    "\n",
    "nums = [2, 1, 4, 8, 2, 3, 9, 3]\n",
    "num_sort = sorted(nums)\n",
    "\n",
    "print(nums)       # original list is unchanged\n",
    "print(num_sort)"
   ]
  },
  {
   "cell_type": "code",
   "execution_count": 19,
   "metadata": {},
   "outputs": [
    {
     "name": "stdout",
     "output_type": "stream",
     "text": [
      "1\n",
      "9\n",
      "32\n"
     ]
    }
   ],
   "source": [
    "# Other built-in functions\n",
    "\n",
    "print(min(nums))\n",
    "print(max(nums))\n",
    "print(sum(nums))"
   ]
  },
  {
   "cell_type": "code",
   "execution_count": 20,
   "metadata": {},
   "outputs": [
    {
     "data": {
      "text/plain": [
       "3"
      ]
     },
     "execution_count": 20,
     "metadata": {},
     "output_type": "execute_result"
    }
   ],
   "source": [
    "# .index()\n",
    "\n",
    "languages1.index('Python')"
   ]
  },
  {
   "cell_type": "code",
   "execution_count": 21,
   "metadata": {},
   "outputs": [
    {
     "ename": "AttributeError",
     "evalue": "'list' object has no attribute 'find'",
     "output_type": "error",
     "traceback": [
      "\u001b[0;31m---------------------------------------------------------------------------\u001b[0m",
      "\u001b[0;31mAttributeError\u001b[0m                            Traceback (most recent call last)",
      "\u001b[0;32m<ipython-input-21-ace6e749f636>\u001b[0m in \u001b[0;36m<module>\u001b[0;34m\u001b[0m\n\u001b[1;32m      1\u001b[0m \u001b[0;31m# .find() method is available only for strings, NOT for list, tuples and dictionaries\u001b[0m\u001b[0;34m\u001b[0m\u001b[0;34m\u001b[0m\u001b[0;34m\u001b[0m\u001b[0m\n\u001b[1;32m      2\u001b[0m \u001b[0;34m\u001b[0m\u001b[0m\n\u001b[0;32m----> 3\u001b[0;31m \u001b[0mlanguages1\u001b[0m\u001b[0;34m.\u001b[0m\u001b[0mfind\u001b[0m\u001b[0;34m(\u001b[0m\u001b[0;34m'Python'\u001b[0m\u001b[0;34m)\u001b[0m\u001b[0;34m\u001b[0m\u001b[0;34m\u001b[0m\u001b[0m\n\u001b[0m",
      "\u001b[0;31mAttributeError\u001b[0m: 'list' object has no attribute 'find'"
     ]
    }
   ],
   "source": [
    "# .find() method is available only for strings, NOT for list, tuples and dictionaries\n",
    "\n",
    "languages1.find('Python')"
   ]
  },
  {
   "cell_type": "code",
   "execution_count": 22,
   "metadata": {},
   "outputs": [
    {
     "name": "stdout",
     "output_type": "stream",
     "text": [
      "C\n",
      "C++\n",
      "JavaScript\n",
      "Python\n",
      "Scala\n"
     ]
    }
   ],
   "source": [
    "# loop through list using for\n",
    "\n",
    "for lang in languages1:\n",
    "    print(lang)"
   ]
  },
  {
   "cell_type": "code",
   "execution_count": 23,
   "metadata": {},
   "outputs": [
    {
     "name": "stdout",
     "output_type": "stream",
     "text": [
      "(0, 'C')\n",
      "(1, 'C++')\n",
      "(2, 'JavaScript')\n",
      "(3, 'Python')\n",
      "(4, 'Scala')\n"
     ]
    }
   ],
   "source": [
    "# Access element along with index\n",
    "\n",
    "for lang in enumerate(languages1):\n",
    "    print(lang)"
   ]
  },
  {
   "cell_type": "code",
   "execution_count": 24,
   "metadata": {},
   "outputs": [
    {
     "name": "stdout",
     "output_type": "stream",
     "text": [
      "0 C\n",
      "1 C++\n",
      "2 JavaScript\n",
      "3 Python\n",
      "4 Scala\n"
     ]
    }
   ],
   "source": [
    "for index, lang in enumerate(languages1):\n",
    "    print(index, lang)"
   ]
  },
  {
   "cell_type": "code",
   "execution_count": 25,
   "metadata": {},
   "outputs": [
    {
     "name": "stdout",
     "output_type": "stream",
     "text": [
      "1 C\n",
      "2 C++\n",
      "3 JavaScript\n",
      "4 Python\n",
      "5 Scala\n"
     ]
    }
   ],
   "source": [
    "for index, lang in enumerate(languages1, start = 1):\n",
    "    print(index, lang)"
   ]
  },
  {
   "cell_type": "code",
   "execution_count": 26,
   "metadata": {},
   "outputs": [
    {
     "name": "stdout",
     "output_type": "stream",
     "text": [
      "C, C++, JavaScript, Python, Scala\n"
     ]
    }
   ],
   "source": [
    "# Convert list to strings\n",
    "\n",
    "language_str = ', '.join(languages1)\n",
    "print(language_str)"
   ]
  },
  {
   "cell_type": "code",
   "execution_count": 27,
   "metadata": {},
   "outputs": [
    {
     "name": "stdout",
     "output_type": "stream",
     "text": [
      "['C', ' C++', ' JavaScript', ' Python', ' Scala']\n"
     ]
    }
   ],
   "source": [
    "# Now convert those strings back to list\n",
    "\n",
    "new_lang = language_str.split(',')\n",
    "print(new_lang)"
   ]
  },
  {
   "cell_type": "code",
   "execution_count": 2,
   "metadata": {},
   "outputs": [
    {
     "data": {
      "text/plain": [
       "'c'"
      ]
     },
     "execution_count": 2,
     "metadata": {},
     "output_type": "execute_result"
    }
   ],
   "source": [
    "max(['a', 'b', 'c'])"
   ]
  },
  {
   "cell_type": "code",
   "execution_count": 4,
   "metadata": {},
   "outputs": [
    {
     "data": {
      "text/plain": [
       "'b'"
      ]
     },
     "execution_count": 4,
     "metadata": {},
     "output_type": "execute_result"
    }
   ],
   "source": [
    "max(['a', 'ab', 'abc', 'b'])"
   ]
  },
  {
   "cell_type": "code",
   "execution_count": 1,
   "metadata": {},
   "outputs": [],
   "source": [
    "# 'in' operator makes our job easy to find out something from the list\n",
    "\n"
   ]
  },
  {
   "cell_type": "code",
   "execution_count": 23,
   "metadata": {},
   "outputs": [
    {
     "name": "stdout",
     "output_type": "stream",
     "text": [
      "[1, 4, 9, 16, 25, 36, 49, 64, 81, 100]\n",
      "\n",
      "\n",
      "[1, 4, 9, 16, 25, 36, 49, 64, 81, 100]\n",
      "\n",
      "\n",
      "[4, 16, 36, 64, 100]\n",
      "\n",
      "\n",
      "['odd', 'even', 'odd', 'even', 'odd', 'even', 'odd', 'even', 'odd', 'even']\n",
      "\n",
      "\n",
      "[16, 64]\n",
      "\n",
      "\n",
      "['yes', 'no', 'test', 'test', 'test', 'test', 'test', 'test', 'test']\n",
      "\n",
      "\n",
      "[['a', 0], ['a', 1], ['a', 2], ['a', 3], ['b', 0], ['b', 1], ['b', 2], ['b', 3], ['c', 0], ['c', 1], ['c', 2], ['c', 3], ['d', 0], ['d', 1], ['d', 2], ['d', 3]]\n",
      "\n",
      "\n",
      "[[0, 1, 2, 3], [0, 1, 2, 3], [0, 1, 2, 3], [0, 1, 2, 3]]\n"
     ]
    }
   ],
   "source": [
    "# list comprehension - concise way to create lists\n",
    "# It consists of brackets containing an expression followed by a for clause, then zero or more for or if clause. \n",
    "# The expression can be anything, meaning you can put in all kinds of objects in lists\n",
    "\n",
    "nums  = [1, 2, 3, 4, 5, 6, 7, 8, 9, 10]\n",
    "\n",
    "\n",
    "# Do n*n for each n in nums without list comprehension\n",
    "\n",
    "l1 = []\n",
    "for n in nums:\n",
    "    l1.append(n * n)\n",
    "print(l1)\n",
    "\n",
    "\n",
    "# doing the same with list comprehension\n",
    "print('\\n')\n",
    "l1 = [n * n for n in nums]\n",
    "print(l1)\n",
    "\n",
    "\n",
    "# if I want to the same but only for even numbers\n",
    "print('\\n')\n",
    "l1 = [n * n for n in nums if n%2 == 0]\n",
    "print(l1)\n",
    "\n",
    "# instead of printing n value, print 'odd' or 'even'\n",
    "# \"odd\" if n%2 != 0 else \"even\" in place of n * n. output should be on left side of expression\n",
    "print('\\n')\n",
    "l1 = [\"odd\" if n%2 != 0 else \"even\" for n in nums] \n",
    "print(l1)\n",
    "\n",
    "# multiple if conditions\n",
    "print('\\n')\n",
    "l1 = [n * n for n in nums if n%2 == 0 if n% 4 == 0]\n",
    "print(l1)\n",
    "\n",
    "\n",
    "# if elif like statements\n",
    "# after if statement, else must be written for next condition\n",
    "print('\\n')\n",
    "l1 = [\"yes\" if i == 1 else \"no\" if i == 2 else \"test\" for i in range(1, 10)]\n",
    "print(l1)\n",
    "\n",
    "\n",
    "# implement list comprehension for nested for loop\n",
    "# make (letter, num) pair for each letter in 'abcd' and each number in '1234'\n",
    "print('\\n')\n",
    "l2 = [[letter, num] for letter in 'abcd' for num in range(4)]\n",
    "print(l2)\n",
    "\n",
    "#####\n",
    "print('\\n')\n",
    "l2 = [[n for n in range(4)] for num in range(4)]\n",
    "print(l2)"
   ]
  },
  {
   "cell_type": "code",
   "execution_count": null,
   "metadata": {},
   "outputs": [],
   "source": []
  }
 ],
 "metadata": {
  "kernelspec": {
   "display_name": "Python 3",
   "language": "python",
   "name": "python3"
  },
  "language_info": {
   "codemirror_mode": {
    "name": "ipython",
    "version": 3
   },
   "file_extension": ".py",
   "mimetype": "text/x-python",
   "name": "python",
   "nbconvert_exporter": "python",
   "pygments_lexer": "ipython3",
   "version": "3.8.5"
  }
 },
 "nbformat": 4,
 "nbformat_minor": 4
}
