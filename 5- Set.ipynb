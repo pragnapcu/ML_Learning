{
 "cells": [
  {
   "cell_type": "code",
   "execution_count": 5,
   "metadata": {},
   "outputs": [
    {
     "name": "stdout",
     "output_type": "stream",
     "text": [
      "set()\n",
      "{}\n",
      "<class 'set'>\n",
      "<class 'dict'>\n"
     ]
    }
   ],
   "source": [
    "# A set is an UNORDERED collection data type that is \n",
    "# iterable, \n",
    "# mutable and \n",
    "# has NO duplicate elements\n",
    "# nested sets is not accepted\n",
    "\n",
    "# Defining empty set\n",
    "s = set()\n",
    "print(s)\n",
    "\n",
    "s1 = {} # empty dictionary\n",
    "print(s1)\n",
    "\n",
    "print(type(s))\n",
    "print(type(s1)) # this is dictionary though sets are enclosed in {}"
   ]
  },
  {
   "cell_type": "code",
   "execution_count": 8,
   "metadata": {},
   "outputs": [
    {
     "name": "stdout",
     "output_type": "stream",
     "text": [
      "{'Python', 'C', 'C++'}\n"
     ]
    }
   ],
   "source": [
    "# removes duplicate elements\n",
    "\n",
    "lang = {'C', 'C++', 'Python', 'C'}\n",
    "print(lang)"
   ]
  },
  {
   "cell_type": "code",
   "execution_count": null,
   "metadata": {},
   "outputs": [],
   "source": [
    "# Also Notice that order of printing elements change with each execution\n",
    "\n",
    "# Because, Sets dont care about order. Tests if the value is part of set."
   ]
  },
  {
   "cell_type": "code",
   "execution_count": 9,
   "metadata": {},
   "outputs": [
    {
     "name": "stdout",
     "output_type": "stream",
     "text": [
      "True\n"
     ]
    }
   ],
   "source": [
    "#Membership test - Like list and tuple, membership test can also be used in sets\n",
    "\n",
    "print('C++' in lang)"
   ]
  },
  {
   "cell_type": "code",
   "execution_count": 10,
   "metadata": {},
   "outputs": [
    {
     "ename": "TypeError",
     "evalue": "'set' object is not subscriptable",
     "output_type": "error",
     "traceback": [
      "\u001b[0;31m---------------------------------------------------------------------------\u001b[0m",
      "\u001b[0;31mTypeError\u001b[0m                                 Traceback (most recent call last)",
      "\u001b[0;32m<ipython-input-10-efefad6c8ff4>\u001b[0m in \u001b[0;36m<module>\u001b[0;34m\u001b[0m\n\u001b[1;32m      1\u001b[0m \u001b[0;31m# Set does not support indexing\u001b[0m\u001b[0;34m\u001b[0m\u001b[0;34m\u001b[0m\u001b[0;34m\u001b[0m\u001b[0m\n\u001b[1;32m      2\u001b[0m \u001b[0;34m\u001b[0m\u001b[0m\n\u001b[0;32m----> 3\u001b[0;31m \u001b[0mlang\u001b[0m\u001b[0;34m[\u001b[0m\u001b[0;36m0\u001b[0m\u001b[0;34m]\u001b[0m\u001b[0;34m\u001b[0m\u001b[0;34m\u001b[0m\u001b[0m\n\u001b[0m",
      "\u001b[0;31mTypeError\u001b[0m: 'set' object is not subscriptable"
     ]
    }
   ],
   "source": [
    "# Set does not support indexing\n",
    "\n",
    "lang[0]"
   ]
  },
  {
   "cell_type": "code",
   "execution_count": 11,
   "metadata": {},
   "outputs": [
    {
     "name": "stdout",
     "output_type": "stream",
     "text": [
      "{'Python', 'C', 'Perl', 'C++'}\n"
     ]
    }
   ],
   "source": [
    "# In-built functions in sets\n",
    "\n",
    "# .add()\n",
    "lang.add('Perl')\n",
    "print(lang)"
   ]
  },
  {
   "cell_type": "code",
   "execution_count": 2,
   "metadata": {},
   "outputs": [
    {
     "name": "stdout",
     "output_type": "stream",
     "text": [
      "Common element in both sets is: {'Python'}\n",
      "\n",
      "\n",
      "Not common element from lang1 is: {'C', 'C++'}\n",
      "Not common element from lang2 is: {'JS', 'Java'}\n",
      "\n",
      "\n",
      "Union of elements in both sets: {'C', 'C++', 'JS', 'Python', 'Java'}\n",
      "\n",
      "\n",
      "Updated lang1 set using differnt_update: {'C', 'C++'}\n",
      "\n",
      "\n",
      "Updated lang1 set using intersection_update: set()\n"
     ]
    }
   ],
   "source": [
    "lang1 = {'C', 'C++', 'Python', 'C'}\n",
    "lang2 = {'Java', 'JS', 'Python'}\n",
    "\n",
    "# .intersection() - To know common elements in both sets\n",
    "print(f'Common element in both sets is: {lang1.intersection(lang2)}')\n",
    "\n",
    "print('\\n')\n",
    "\n",
    "# .difference() - Not common elements from set1\n",
    "print(f'Not common element from lang1 is: {lang1.difference(lang2)}')\n",
    "print(f'Not common element from lang2 is: {lang2.difference(lang1)}')\n",
    "\n",
    "print('\\n')\n",
    "\n",
    "# .union() - Combine both sets\n",
    "print(f'Union of elements in both sets: {lang1.union(lang2)}')\n",
    "\n",
    "print('\\n')\n",
    "\n",
    "# .different_update() - It UPDATES only the not common elements in one set\n",
    "\n",
    "lang1.difference_update(lang2) # at first, update the difference and then print\n",
    "print(f'Updated lang1 set using differnt_update: {lang1}')\n",
    "\n",
    "print('\\n')\n",
    "\n",
    "# .intersection_update() - It UPDATES only the commond elements in both sets\n",
    "\n",
    "lang1.intersection_update(lang2)\n",
    "print(f'Updated lang1 set using intersection_update: {lang1}')\n"
   ]
  },
  {
   "cell_type": "code",
   "execution_count": 6,
   "metadata": {},
   "outputs": [
    {
     "name": "stdout",
     "output_type": "stream",
     "text": [
      "{'C', 'Python'}\n"
     ]
    }
   ],
   "source": [
    "# .remove()\n",
    "\n",
    "lang1 = {'C', 'C++', 'Python', 'C'}\n",
    "lang1.remove('C++')\n",
    "print(lang1)"
   ]
  },
  {
   "cell_type": "code",
   "execution_count": null,
   "metadata": {},
   "outputs": [],
   "source": []
  },
  {
   "cell_type": "code",
   "execution_count": null,
   "metadata": {},
   "outputs": [],
   "source": []
  },
  {
   "cell_type": "code",
   "execution_count": null,
   "metadata": {},
   "outputs": [],
   "source": []
  },
  {
   "cell_type": "code",
   "execution_count": null,
   "metadata": {},
   "outputs": [],
   "source": []
  },
  {
   "cell_type": "code",
   "execution_count": null,
   "metadata": {},
   "outputs": [],
   "source": []
  },
  {
   "cell_type": "code",
   "execution_count": null,
   "metadata": {},
   "outputs": [],
   "source": []
  },
  {
   "cell_type": "code",
   "execution_count": null,
   "metadata": {},
   "outputs": [],
   "source": []
  },
  {
   "cell_type": "code",
   "execution_count": null,
   "metadata": {},
   "outputs": [],
   "source": []
  },
  {
   "cell_type": "code",
   "execution_count": null,
   "metadata": {},
   "outputs": [],
   "source": []
  },
  {
   "cell_type": "code",
   "execution_count": null,
   "metadata": {},
   "outputs": [],
   "source": []
  },
  {
   "cell_type": "code",
   "execution_count": null,
   "metadata": {},
   "outputs": [],
   "source": []
  }
 ],
 "metadata": {
  "kernelspec": {
   "display_name": "Python 3",
   "language": "python",
   "name": "python3"
  },
  "language_info": {
   "codemirror_mode": {
    "name": "ipython",
    "version": 3
   },
   "file_extension": ".py",
   "mimetype": "text/x-python",
   "name": "python",
   "nbconvert_exporter": "python",
   "pygments_lexer": "ipython3",
   "version": "3.8.5"
  }
 },
 "nbformat": 4,
 "nbformat_minor": 4
}
