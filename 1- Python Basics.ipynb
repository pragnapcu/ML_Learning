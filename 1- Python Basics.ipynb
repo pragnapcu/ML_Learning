{
 "cells": [
  {
   "cell_type": "code",
   "execution_count": 1,
   "metadata": {},
   "outputs": [
    {
     "name": "stdout",
     "output_type": "stream",
     "text": [
      "Welcome to Python world!\n",
      "Multi\n",
      "line\n",
      "statement\n"
     ]
    }
   ],
   "source": [
    "# printing single and multi-line statement\n",
    "# statement should be enclosed in single ('') or double(\"\") quotes\n",
    "# Use triple quotes (\"\"\" \"\"\") for multi line statement\n",
    "\n",
    "print(\"Welcome to Python world!\")\n",
    "\n",
    "print(\"\"\"Multi\n",
    "line\n",
    "statement\"\"\")"
   ]
  },
  {
   "cell_type": "code",
   "execution_count": 2,
   "metadata": {},
   "outputs": [],
   "source": [
    "# Built-in datatypes (source: w3schools.com)\n",
    "# Text Type: \tstr\n",
    "# Numeric Types: \tint, float, complex\n",
    "# Sequence Types: \tlist, tuple, range\n",
    "# Mapping Type: \tdict\n",
    "# Set Types: \tset, frozenset\n",
    "# Boolean Type: \tbool\n",
    "# Binary Types: \tbytes, bytearray, memoryview"
   ]
  },
  {
   "cell_type": "code",
   "execution_count": 3,
   "metadata": {},
   "outputs": [
    {
     "name": "stdout",
     "output_type": "stream",
     "text": [
      "Python\n",
      "<class 'str'>\n"
     ]
    }
   ],
   "source": [
    "# creating variable & printing\n",
    "# python is a dynamic programming language hence, variable declaration is not required\n",
    "# variable name should not start with number but, can start with _\n",
    "\n",
    "language = \"Python\"\n",
    "\n",
    "print(language)\n",
    "print(type(language)) # data type of language is string"
   ]
  },
  {
   "cell_type": "code",
   "execution_count": 4,
   "metadata": {},
   "outputs": [
    {
     "name": "stdout",
     "output_type": "stream",
     "text": [
      "30\n",
      "<class 'int'>\n"
     ]
    }
   ],
   "source": [
    "# integer\n",
    "number = 30\n",
    "\n",
    "print(number)\n",
    "print(type(number)) # Here, datatype is integer"
   ]
  },
  {
   "cell_type": "code",
   "execution_count": 5,
   "metadata": {},
   "outputs": [
    {
     "name": "stdout",
     "output_type": "stream",
     "text": [
      "30\n",
      "<class 'str'>\n"
     ]
    }
   ],
   "source": [
    "number = '30'\n",
    "\n",
    "print(number)\n",
    "print(type(number)) # Here, datatype is string because it is enclosed in single quote"
   ]
  },
  {
   "cell_type": "code",
   "execution_count": 6,
   "metadata": {},
   "outputs": [
    {
     "name": "stdout",
     "output_type": "stream",
     "text": [
      "student1\n",
      "student1 python 95\n"
     ]
    }
   ],
   "source": [
    "# create multiple variable at a time\n",
    "\n",
    "person, lang, score = 'student1', 'python', 95\n",
    "\n",
    "print(person) # print single variable\n",
    "\n",
    "print(person, lang, score)  # print multiple variables"
   ]
  },
  {
   "cell_type": "code",
   "execution_count": 7,
   "metadata": {},
   "outputs": [
    {
     "name": "stdout",
     "output_type": "stream",
     "text": [
      "3.8\n",
      "<class 'float'>\n"
     ]
    }
   ],
   "source": [
    "# float\n",
    "version = 3.8\n",
    "\n",
    "print(version)\n",
    "print(type(version))"
   ]
  },
  {
   "cell_type": "code",
   "execution_count": 8,
   "metadata": {},
   "outputs": [
    {
     "name": "stdout",
     "output_type": "stream",
     "text": [
      "True\n",
      "<class 'bool'>\n"
     ]
    }
   ],
   "source": [
    "# Boolean\n",
    "is_python = True\n",
    "\n",
    "print(is_python)\n",
    "print(type(is_python))"
   ]
  },
  {
   "cell_type": "code",
   "execution_count": 11,
   "metadata": {},
   "outputs": [
    {
     "name": "stdout",
     "output_type": "stream",
     "text": [
      "(5+6j)\n",
      "<class 'complex'>\n",
      "5.0\n",
      "6.0\n"
     ]
    }
   ],
   "source": [
    "#complex\n",
    "\n",
    "b = 5 + 6j # here, j is imaginary\n",
    "\n",
    "print(b)\n",
    "print(type(b))\n",
    "\n",
    "print(b.real)\n",
    "print(b.imag)"
   ]
  },
  {
   "cell_type": "code",
   "execution_count": 9,
   "metadata": {},
   "outputs": [
    {
     "name": "stdout",
     "output_type": "stream",
     "text": [
      "python language\n"
     ]
    }
   ],
   "source": [
    "# concatanation\n",
    "\n",
    "str1 = 'python'\n",
    "str2 = 'language'\n",
    "\n",
    "str_concat = str1 + ' ' +str2\n",
    "print(str_concat)"
   ]
  },
  {
   "cell_type": "code",
   "execution_count": 10,
   "metadata": {},
   "outputs": [
    {
     "ename": "TypeError",
     "evalue": "can only concatenate str (not \"float\") to str",
     "output_type": "error",
     "traceback": [
      "\u001b[0;31m---------------------------------------------------------------------------\u001b[0m",
      "\u001b[0;31mTypeError\u001b[0m                                 Traceback (most recent call last)",
      "\u001b[0;32m<ipython-input-10-0797c3b1589d>\u001b[0m in \u001b[0;36m<module>\u001b[0;34m\u001b[0m\n\u001b[1;32m      5\u001b[0m \u001b[0mversion\u001b[0m \u001b[0;34m=\u001b[0m \u001b[0;36m3.8\u001b[0m\u001b[0;34m\u001b[0m\u001b[0;34m\u001b[0m\u001b[0m\n\u001b[1;32m      6\u001b[0m \u001b[0;34m\u001b[0m\u001b[0m\n\u001b[0;32m----> 7\u001b[0;31m \u001b[0mprint\u001b[0m\u001b[0;34m(\u001b[0m\u001b[0mstr1\u001b[0m \u001b[0;34m+\u001b[0m \u001b[0mversion\u001b[0m\u001b[0;34m)\u001b[0m \u001b[0;31m# throws error\u001b[0m\u001b[0;34m\u001b[0m\u001b[0;34m\u001b[0m\u001b[0m\n\u001b[0m",
      "\u001b[0;31mTypeError\u001b[0m: can only concatenate str (not \"float\") to str"
     ]
    }
   ],
   "source": [
    "# Python is strong typing language. \n",
    "# variables have a well-defined type and there are strict rules about combining variables of different types in expressions\n",
    "\n",
    "str1 = 'python'\n",
    "version = 3.8\n",
    "\n",
    "print(str1 + version) # throws error"
   ]
  },
  {
   "cell_type": "code",
   "execution_count": 12,
   "metadata": {},
   "outputs": [
    {
     "name": "stdout",
     "output_type": "stream",
     "text": [
      "python3.8\n"
     ]
    }
   ],
   "source": [
    "# explicit type casting\n",
    "\n",
    "str1 = 'python'\n",
    "version = 3.8\n",
    "\n",
    "print(str1 + str(version)) #type casting"
   ]
  },
  {
   "cell_type": "code",
   "execution_count": 13,
   "metadata": {},
   "outputs": [
    {
     "name": "stdout",
     "output_type": "stream",
     "text": [
      "6.8\n"
     ]
    }
   ],
   "source": [
    "# Upcasting - It permits an object of a subclass type to be treated as an object of any superclass type\n",
    "\n",
    "a = 3 + 3.8  # implicit upcasting\n",
    "\n",
    "print(a) # result is in float"
   ]
  },
  {
   "cell_type": "code",
   "execution_count": 14,
   "metadata": {},
   "outputs": [
    {
     "name": "stdout",
     "output_type": "stream",
     "text": [
      "Please enter string1: python\n",
      "Please enter string2: program\n",
      "python program\n"
     ]
    }
   ],
   "source": [
    "# input() function - To take input from user\n",
    "\n",
    "str1 = input(\"Please enter string1: \")\n",
    "str2 = input(\"Please enter string2: \")\n",
    "\n",
    "result = str1 + ' ' + str2\n",
    "print(result)"
   ]
  },
  {
   "cell_type": "code",
   "execution_count": 15,
   "metadata": {},
   "outputs": [
    {
     "name": "stdout",
     "output_type": "stream",
     "text": [
      "Please enter value1: 10\n",
      "Please enter value2: 20\n",
      "1020\n"
     ]
    }
   ],
   "source": [
    "# implicit type casting - input() function considers the given input as string, by default\n",
    "\n",
    "value1 = input(\"Please enter value1: \")\n",
    "value2 = input(\"Please enter value2: \")\n",
    "\n",
    "result = value1 + value2\n",
    "print(result) # result is just string concatation"
   ]
  },
  {
   "cell_type": "code",
   "execution_count": 16,
   "metadata": {},
   "outputs": [
    {
     "name": "stdout",
     "output_type": "stream",
     "text": [
      "Please enter value1: 10\n",
      "Please enter value2: 20\n",
      "30\n"
     ]
    }
   ],
   "source": [
    "# In this case, do the explicit type casting\n",
    "\n",
    "value1 = int(input(\"Please enter value1: \"))\n",
    "value2 = int(input(\"Please enter value2: \"))\n",
    "\n",
    "result = value1 + value2\n",
    "print(result) # This is actual addition result"
   ]
  },
  {
   "cell_type": "code",
   "execution_count": 17,
   "metadata": {},
   "outputs": [
    {
     "name": "stdout",
     "output_type": "stream",
     "text": [
      "Enter value1: 10.2\n",
      "Enter value2: 20\n",
      "30.2\n"
     ]
    }
   ],
   "source": [
    "# typecasting with float is better\n",
    "\n",
    "value1 = float(input(\"Enter value1: \")) #explicit type casting\n",
    "value2 = float(input(\"Enter value2: \"))\n",
    "result = value1 + value2\n",
    "print(result)"
   ]
  },
  {
   "cell_type": "code",
   "execution_count": 18,
   "metadata": {},
   "outputs": [
    {
     "name": "stdout",
     "output_type": "stream",
     "text": [
      "condition was True\n"
     ]
    }
   ],
   "source": [
    "# simple if statement\n",
    "\n",
    "if True:\n",
    "    print(\"condition was True\") #prints only if conditions is true"
   ]
  },
  {
   "cell_type": "code",
   "execution_count": 19,
   "metadata": {},
   "outputs": [],
   "source": [
    "if False:\n",
    "    print(\"condition was False\") #Does not print because if statement is false"
   ]
  },
  {
   "cell_type": "code",
   "execution_count": 20,
   "metadata": {},
   "outputs": [],
   "source": [
    "# (source: w3schools.com)\n",
    "# Python supports the usual logical conditions from mathematics:\n",
    "\n",
    "# Equals: a == b\n",
    "# Not Equals: a != b\n",
    "# Less than: a < b\n",
    "# Less than or equal to: a <= b\n",
    "# Greater than: a > b\n",
    "# Greater than or equal to: a >= b\n",
    "# object identity: is\n",
    "\n",
    "# These conditions can be used in several ways, most commonly in \"if statements\" and loops"
   ]
  },
  {
   "cell_type": "code",
   "execution_count": 21,
   "metadata": {},
   "outputs": [
    {
     "name": "stdout",
     "output_type": "stream",
     "text": [
      "Please enter your fav programming language: Python\n",
      "language is Python\n"
     ]
    }
   ],
   "source": [
    "### Decision making statements\n",
    "\n",
    "## conditional statements - if elif else and nested if statements\n",
    "\n",
    "# if elif else statement\n",
    "\n",
    "language = input(\"Please enter your fav programming language: \")\n",
    "\n",
    "if language == 'Python':\n",
    "    print(\"language is Python\")\n",
    "elif language == \"Java\":\n",
    "    print(\"language is Java\")\n",
    "elif language == \"JavaScript\":\n",
    "    print(\"language is JavaScript\")\n",
    "else:\n",
    "    print(\"No match\")"
   ]
  },
  {
   "cell_type": "code",
   "execution_count": 22,
   "metadata": {},
   "outputs": [
    {
     "name": "stdout",
     "output_type": "stream",
     "text": [
      "Bad credentials\n",
      "Admin page\n",
      "Please log in\n"
     ]
    }
   ],
   "source": [
    "# and\n",
    "# or\n",
    "# not\n",
    "\n",
    "user = 'Admin'\n",
    "logged_in = False\n",
    "\n",
    "if user == 'Admin' and logged_in:\n",
    "    print(\"Admin page\")\n",
    "else:\n",
    "    print(\"Bad credentials\")\n",
    "\n",
    "\n",
    "\n",
    "############      or     ###########\n",
    "user = 'Admin'\n",
    "logged_in = False\n",
    "\n",
    "if user == 'Admin' or logged_in:\n",
    "    print(\"Admin page\")\n",
    "else:\n",
    "    print(\"Bad credentials\")\n",
    "\n",
    "\n",
    "\n",
    "\n",
    "############      not     ###########\n",
    "user = 'Admin'\n",
    "logged_in = False\n",
    "\n",
    "if not logged_in:\n",
    "    print(\"Please log in\")\n",
    "else:\n",
    "    print(\"Welcome\")\n",
    "\n"
   ]
  },
  {
   "cell_type": "code",
   "execution_count": 23,
   "metadata": {},
   "outputs": [
    {
     "name": "stdout",
     "output_type": "stream",
     "text": [
      "94370036940384\n",
      "94370036940384\n",
      "True \n",
      "\n",
      "94370036940384\n",
      "94370036940704\n",
      "False\n"
     ]
    }
   ],
   "source": [
    "# id() - to get the memory address of an object\n",
    "\n",
    "a = 10\n",
    "b = 10\n",
    "\n",
    "print(id(a)) \n",
    "print(id(b)) # values are same hence, id() of both variables is also same\n",
    "print(a is b, '\\n') # 'is' is used to check if id of two objects is same or not\n",
    "\n",
    "\n",
    "\n",
    "\n",
    "################\n",
    "\n",
    "c = 10\n",
    "d = 20\n",
    "\n",
    "print(id(c))\n",
    "print(id(d)) # values are different hence, id() is also different\n",
    "print(c is d)"
   ]
  },
  {
   "cell_type": "code",
   "execution_count": 24,
   "metadata": {},
   "outputs": [
    {
     "name": "stdout",
     "output_type": "stream",
     "text": [
      "Please enter your child's age: 84\n",
      "Your child is a senior citizen\n"
     ]
    }
   ],
   "source": [
    "age = float(input(\"Please enter your child's age: \"))\n",
    "\n",
    "\n",
    "if age > 0 and age < 100:\n",
    "    if age <= 8:\n",
    "        if age <= 1:\n",
    "            print(\"Your child is an infant\")\n",
    "        elif age <=3:\n",
    "            print(\"Your child is Toddler\")\n",
    "        elif age <=8:\n",
    "            print(\"Your child is in childhood age\")\n",
    "    elif age >= 8 and age <= 18:\n",
    "        if age <= 13:\n",
    "            print(\"Your child has entered into puberty\")\n",
    "        elif age <=18:\n",
    "            print(\"Your child is older adolescent now\")\n",
    "    elif age > 18:\n",
    "        if age <= 30:\n",
    "            print(\"Your child is an adult\")\n",
    "        elif age <=50:\n",
    "            print(\"Your child is a middle age person\")\n",
    "        elif age <=80:\n",
    "            print(\"Your child has entered into old age\")\n",
    "        elif age > 80:\n",
    "            print(\"Your child is a senior citizen\")\n",
    "else:\n",
    "    print(\"You have entered wrong age\")"
   ]
  },
  {
   "cell_type": "code",
   "execution_count": 25,
   "metadata": {},
   "outputs": [
    {
     "name": "stdout",
     "output_type": "stream",
     "text": [
      "1 is less than num2\n",
      "2 is less than num2\n",
      "3 is less than num2\n",
      "4 is less than num2\n",
      "5 is less than num2\n",
      "6 is less than num2\n",
      "7 is less than num2\n",
      "8 is less than num2\n",
      "9 is less than num2\n",
      "\n",
      "\n",
      "num1 is equal to num2 value\n"
     ]
    }
   ],
   "source": [
    "# loops and iterations\n",
    "\n",
    "# while loop - It runs till the conditions is False\n",
    "\n",
    "num1 = 1\n",
    "num2  = 10\n",
    "\n",
    "while num1 < num2: # condition\n",
    "    print(num1, \"is less than num2\")\n",
    "    num1 = num1 + 1\n",
    "else:\n",
    "    print('\\n')\n",
    "    print(\"num1 is equal to num2 value\")"
   ]
  },
  {
   "cell_type": "code",
   "execution_count": 26,
   "metadata": {},
   "outputs": [
    {
     "name": "stdout",
     "output_type": "stream",
     "text": [
      "P\n",
      "y\n",
      "t\n",
      "h\n",
      "o\n",
      "n\n",
      "\n",
      "\n",
      "P\n",
      "y\n",
      "found\n",
      "\n",
      "\n",
      "P\n",
      "y\n",
      "found\n",
      "h\n",
      "o\n",
      "n\n"
     ]
    }
   ],
   "source": [
    "# loops and iterations\n",
    "\n",
    "language = \"Python\"\n",
    "\n",
    "for lang in language:\n",
    "    print(lang)\n",
    "\n",
    "\n",
    "\n",
    "###########        BREAK       ###############\n",
    "print('\\n')\n",
    "language = \"Python\"\n",
    "\n",
    "for lang in language:\n",
    "    if lang == 't':\n",
    "        print('found')\n",
    "        break           # break out of the loop\n",
    "    print(lang)\n",
    "\n",
    "\n",
    "    \n",
    "###########        CONTINUE       ###############\n",
    "print('\\n')\n",
    "language = \"Python\"\n",
    "\n",
    "for lang in language:\n",
    "    if lang == 't':\n",
    "        print('found')\n",
    "        continue           # continue - skip to the next iteration\n",
    "    print(lang)\n"
   ]
  },
  {
   "cell_type": "code",
   "execution_count": 27,
   "metadata": {},
   "outputs": [
    {
     "name": "stdout",
     "output_type": "stream",
     "text": [
      "P\n",
      "y\n",
      "t\n",
      "h\n",
      "o\n",
      "n\n",
      "This is else condition. For loop is successful\n"
     ]
    }
   ],
   "source": [
    "# for else statements\n",
    "# else condition gets executed only after for loop gets exhausted\n",
    "\n",
    "language = \"Python\"\n",
    "\n",
    "for lang in language:\n",
    "    print(lang)\n",
    "else:\n",
    "    print(\"This is else condition. For loop is successful\")"
   ]
  },
  {
   "cell_type": "code",
   "execution_count": 28,
   "metadata": {},
   "outputs": [
    {
     "name": "stdout",
     "output_type": "stream",
     "text": [
      "P\n",
      "y\n"
     ]
    }
   ],
   "source": [
    "# check for else with break. Here, else doesn't get executed\n",
    "\n",
    "language = \"Python\"\n",
    "\n",
    "for lang in language:\n",
    "    if lang == 't':\n",
    "        break\n",
    "    print(lang)\n",
    "else:\n",
    "    print(\"This is else condition. For loop is successful\")"
   ]
  },
  {
   "cell_type": "code",
   "execution_count": 29,
   "metadata": {},
   "outputs": [
    {
     "name": "stdout",
     "output_type": "stream",
     "text": [
      "P\n",
      "y\n",
      "h\n",
      "o\n",
      "n\n",
      "This is else condition. For loop is successful\n"
     ]
    }
   ],
   "source": [
    "# check for else with continue. Here, else gets executed\n",
    "\n",
    "language = \"Python\"\n",
    "\n",
    "for lang in language:\n",
    "    if lang == 't':\n",
    "        continue\n",
    "    print(lang)\n",
    "else:\n",
    "    print(\"This is else condition. For loop is successful\")"
   ]
  },
  {
   "cell_type": "code",
   "execution_count": 30,
   "metadata": {},
   "outputs": [
    {
     "ename": "SyntaxError",
     "evalue": "invalid syntax (<ipython-input-30-2a8ff5b4df31>, line 4)",
     "output_type": "error",
     "traceback": [
      "\u001b[0;36m  File \u001b[0;32m\"<ipython-input-30-2a8ff5b4df31>\"\u001b[0;36m, line \u001b[0;32m4\u001b[0m\n\u001b[0;31m    *\u001b[0m\n\u001b[0m      ^\u001b[0m\n\u001b[0;31mSyntaxError\u001b[0m\u001b[0;31m:\u001b[0m invalid syntax\n"
     ]
    }
   ],
   "source": [
    "# nested for loop\n",
    "# best way to practice nested for loop is printing patterns\n",
    "\n",
    "* \n",
    "* * \n",
    "* * * \n",
    "* * * * \n",
    "* * * * * "
   ]
  },
  {
   "cell_type": "code",
   "execution_count": 31,
   "metadata": {},
   "outputs": [
    {
     "name": "stdout",
     "output_type": "stream",
     "text": [
      "* \n",
      "* * \n",
      "* * * \n",
      "* * * * \n",
      "* * * * * \n"
     ]
    }
   ],
   "source": [
    "n = 5\n",
    "\n",
    "for i in range(n):         # for rows;    0 1 2 3 4\n",
    "    for j in range(i+1):   # for columns; 1 2 3 4 5\n",
    "        print('*', end = ' ') # print * and space\n",
    "    print('')                 # go to next line"
   ]
  },
  {
   "cell_type": "code",
   "execution_count": null,
   "metadata": {},
   "outputs": [],
   "source": [
    "# print the following\n",
    "\n",
    "* * * * * * * \n",
    " * * * * * *\n",
    "  * * * * *\n",
    "   * * * *\n",
    "    * * *\n",
    "     * *\n",
    "      *"
   ]
  },
  {
   "cell_type": "code",
   "execution_count": 32,
   "metadata": {},
   "outputs": [
    {
     "name": "stdout",
     "output_type": "stream",
     "text": [
      "Enter number of rows: 8\n",
      " * * * * * * * \n",
      "  * * * * * * \n",
      "   * * * * * \n",
      "    * * * * \n",
      "     * * * \n",
      "      * * \n",
      "       * \n"
     ]
    }
   ],
   "source": [
    "n = int(input(\"Enter number of rows: \"))\n",
    "\n",
    "for i in range(1, n): # 1 2 3 4 5 6 7; no. of rows\n",
    "    for k in range(i):# 0 1 2 3 4 5 6; for space\n",
    "        print(end = ' ')\n",
    "    for j in range(n-i): # 7 6 5 4 3 2 1; for stars\n",
    "        print('*', end = ' ')\n",
    "    print('')            # next line"
   ]
  },
  {
   "cell_type": "code",
   "execution_count": 33,
   "metadata": {},
   "outputs": [
    {
     "data": {
      "text/plain": [
       "range(0, 5)"
      ]
     },
     "execution_count": 33,
     "metadata": {},
     "output_type": "execute_result"
    }
   ],
   "source": [
    "# range() function\n",
    "\n",
    "range(5) "
   ]
  },
  {
   "cell_type": "code",
   "execution_count": 34,
   "metadata": {},
   "outputs": [
    {
     "name": "stdout",
     "output_type": "stream",
     "text": [
      "0\n",
      "1\n",
      "2\n",
      "3\n",
      "4\n"
     ]
    }
   ],
   "source": [
    "for i in range(5):\n",
    "    print(i)"
   ]
  },
  {
   "cell_type": "code",
   "execution_count": 35,
   "metadata": {},
   "outputs": [
    {
     "name": "stdout",
     "output_type": "stream",
     "text": [
      "1\n",
      "2\n",
      "3\n",
      "4\n"
     ]
    }
   ],
   "source": [
    "for i in range(1, 5):\n",
    "    print(i)"
   ]
  },
  {
   "cell_type": "code",
   "execution_count": 36,
   "metadata": {},
   "outputs": [
    {
     "name": "stdout",
     "output_type": "stream",
     "text": [
      "5\n",
      "4\n",
      "3\n",
      "2\n"
     ]
    }
   ],
   "source": [
    "for i in range(5, 1, -1):\n",
    "    print(i)"
   ]
  },
  {
   "cell_type": "code",
   "execution_count": 37,
   "metadata": {},
   "outputs": [
    {
     "name": "stdout",
     "output_type": "stream",
     "text": [
      "p\n",
      "y\n",
      "h\n",
      "o\n",
      "n\n"
     ]
    }
   ],
   "source": [
    "language = 'python'\n",
    "\n",
    "for i in range(len(language)):\n",
    "    if language[i] == 't':\n",
    "        continue\n",
    "    else:\n",
    "        print(language[i])"
   ]
  },
  {
   "cell_type": "code",
   "execution_count": null,
   "metadata": {},
   "outputs": [],
   "source": []
  }
 ],
 "metadata": {
  "kernelspec": {
   "display_name": "Python 3",
   "language": "python",
   "name": "python3"
  },
  "language_info": {
   "codemirror_mode": {
    "name": "ipython",
    "version": 3
   },
   "file_extension": ".py",
   "mimetype": "text/x-python",
   "name": "python",
   "nbconvert_exporter": "python",
   "pygments_lexer": "ipython3",
   "version": "3.8.5"
  }
 },
 "nbformat": 4,
 "nbformat_minor": 4
}
