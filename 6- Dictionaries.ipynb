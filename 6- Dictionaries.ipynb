{
 "cells": [
  {
   "cell_type": "code",
   "execution_count": 2,
   "metadata": {},
   "outputs": [
    {
     "name": "stdout",
     "output_type": "stream",
     "text": [
      "{'name': 'std1', 'age': 18, 'courses': ['CS', 'Stat', 'Mathematics']}\n",
      "std1\n",
      "['CS', 'Stat', 'Mathematics']\n"
     ]
    }
   ],
   "source": [
    "# Dictionay - Key value pair\n",
    "# key should be unique in dictionary\n",
    "# integers can also be key not only the strings\n",
    "# values in dictionary can be of any type but, the key must of immutable datatype such as strings, integers, tuples\n",
    "\n",
    "student = {'name': 'std1', 'age': 18, 'courses': ['CS', 'Stat', 'Mathematics']}\n",
    "print(student)\n",
    "print(student['name'])\n",
    "print(student['courses'])"
   ]
  },
  {
   "cell_type": "code",
   "execution_count": 3,
   "metadata": {},
   "outputs": [
    {
     "ename": "KeyError",
     "evalue": "1",
     "output_type": "error",
     "traceback": [
      "\u001b[0;31m---------------------------------------------------------------------------\u001b[0m",
      "\u001b[0;31mKeyError\u001b[0m                                  Traceback (most recent call last)",
      "\u001b[0;32m<ipython-input-3-dda28f3417d0>\u001b[0m in \u001b[0;36m<module>\u001b[0;34m\u001b[0m\n\u001b[1;32m      1\u001b[0m \u001b[0;31m# can't be accessed by index number.\u001b[0m\u001b[0;34m\u001b[0m\u001b[0;34m\u001b[0m\u001b[0;34m\u001b[0m\u001b[0m\n\u001b[1;32m      2\u001b[0m \u001b[0;34m\u001b[0m\u001b[0m\n\u001b[0;32m----> 3\u001b[0;31m \u001b[0mprint\u001b[0m\u001b[0;34m(\u001b[0m\u001b[0mstudent\u001b[0m\u001b[0;34m[\u001b[0m\u001b[0;36m1\u001b[0m\u001b[0;34m]\u001b[0m\u001b[0;34m)\u001b[0m\u001b[0;34m\u001b[0m\u001b[0;34m\u001b[0m\u001b[0m\n\u001b[0m",
      "\u001b[0;31mKeyError\u001b[0m: 1"
     ]
    }
   ],
   "source": [
    "# can't be accessed by index number. \n",
    "\n",
    "print(student[1])"
   ]
  },
  {
   "cell_type": "code",
   "execution_count": 4,
   "metadata": {},
   "outputs": [
    {
     "name": "stdout",
     "output_type": "stream",
     "text": [
      "18\n",
      "std1\n"
     ]
    }
   ],
   "source": [
    "# Two ways to access value of a key\n",
    "# 1. By passing key to dictionary as index\n",
    "# 2. using .get() method\n",
    "\n",
    "print(student['age'])\n",
    "\n",
    "print(student.get('name'))"
   ]
  },
  {
   "cell_type": "code",
   "execution_count": 5,
   "metadata": {},
   "outputs": [
    {
     "name": "stdout",
     "output_type": "stream",
     "text": [
      "None\n",
      "Not found\n"
     ]
    }
   ],
   "source": [
    "# if key does not exist\n",
    "# throws key error in first case\n",
    "# returns None. This can be modified by passing our own 2nd argument\n",
    "\n",
    "#print(student['phone']) # throws error\n",
    "\n",
    "print(student.get('phone'))\n",
    "\n",
    "print(student.get('phone', 'Not found'))"
   ]
  },
  {
   "cell_type": "code",
   "execution_count": 6,
   "metadata": {},
   "outputs": [
    {
     "name": "stdout",
     "output_type": "stream",
     "text": [
      "{'name': 'std1', 'age': 18, 'courses': ['CS', 'Stat', 'Mathematics'], 'phone': '234-512-5124'}\n",
      "\n",
      "\n",
      "updated key value: {'name': 'std1', 'age': 18, 'courses': ['CS', 'Stat', 'Mathematics'], 'phone': '123-235-2351'}\n"
     ]
    }
   ],
   "source": [
    "# add new key and value to dictionary\n",
    "# updates the value if key already exists\n",
    "\n",
    "student['phone'] = '234-512-5124'\n",
    "print(student)\n",
    "\n",
    "student['phone'] = '123-235-2351' # updates key value\n",
    "print('\\n')\n",
    "print(f'updated key value: {student}')"
   ]
  },
  {
   "cell_type": "code",
   "execution_count": 7,
   "metadata": {},
   "outputs": [
    {
     "name": "stdout",
     "output_type": "stream",
     "text": [
      "{'name': 'std2', 'age': 20, 'courses': ['CS', 'Stat', 'Math'], 'phone': '123-235-2351'}\n"
     ]
    }
   ],
   "source": [
    "# .update() - To update multiple values at a time\n",
    "\n",
    "student.update({'name': 'std2', 'age': 20, 'courses': ['CS', 'Stat', 'Math']})\n",
    "print(student)"
   ]
  },
  {
   "cell_type": "code",
   "execution_count": 8,
   "metadata": {},
   "outputs": [
    {
     "name": "stdout",
     "output_type": "stream",
     "text": [
      "{'name': 'std2', 'courses': ['CS', 'Stat', 'Math'], 'phone': '123-235-2351'}\n"
     ]
    }
   ],
   "source": [
    "#Delete a specific key and its value\n",
    "\n",
    "del student['age']\n",
    "print(student)"
   ]
  },
  {
   "cell_type": "code",
   "execution_count": 9,
   "metadata": {},
   "outputs": [
    {
     "name": "stdout",
     "output_type": "stream",
     "text": [
      "123-235-2351\n",
      "{'name': 'std2', 'courses': ['CS', 'Stat', 'Math']}\n"
     ]
    }
   ],
   "source": [
    "# remove using .pop()\n",
    "\n",
    "popped_key = student.pop('phone')\n",
    "print(popped_key)\n",
    "print(student)"
   ]
  },
  {
   "cell_type": "code",
   "execution_count": 10,
   "metadata": {},
   "outputs": [
    {
     "name": "stdout",
     "output_type": "stream",
     "text": [
      "3\n"
     ]
    }
   ],
   "source": [
    "# number of keys in a dictionary\n",
    "\n",
    "student = {'name': 'std1', 'age': 18, 'courses': ['CS', 'Stat', 'Mathematics']}\n",
    "print(len(student))"
   ]
  },
  {
   "cell_type": "code",
   "execution_count": 21,
   "metadata": {},
   "outputs": [
    {
     "name": "stdout",
     "output_type": "stream",
     "text": [
      "CS\n"
     ]
    }
   ],
   "source": [
    "# Access 'CS'\n",
    "\n",
    "student = {'name': 'std1', 'age': 18, 'courses': ['CS', 'Stat', 'Mathematics']}\n",
    "\n",
    "print(student['courses'][0])"
   ]
  },
  {
   "cell_type": "code",
   "execution_count": 11,
   "metadata": {},
   "outputs": [
    {
     "name": "stdout",
     "output_type": "stream",
     "text": [
      "dict_keys(['name', 'age', 'courses'])\n",
      "dict_values(['std1', 18, ['CS', 'Stat', 'Mathematics']])\n",
      "dict_items([('name', 'std1'), ('age', 18), ('courses', ['CS', 'Stat', 'Mathematics'])])\n"
     ]
    }
   ],
   "source": [
    "# print keys, values and items from dictionary\n",
    "\n",
    "print(student.keys())\n",
    "\n",
    "print(student.values())\n",
    "\n",
    "print(student.items())"
   ]
  },
  {
   "cell_type": "code",
   "execution_count": 38,
   "metadata": {},
   "outputs": [
    {
     "name": "stdout",
     "output_type": "stream",
     "text": [
      "{'std1': 'asin', 'std4': 'asin', 'std2': 'asin', 'std3': 'asin'}\n"
     ]
    }
   ],
   "source": [
    "# Another way of creating dictionary is -- from iterable\n",
    "\n",
    "# .fromkeys() - Create a new dictionary with keys from iterable\n",
    "\n",
    "l1 = {'std1', 'std2', 'std3', 'std4'}\n",
    "student2 = {}\n",
    "student2 = student2.fromkeys(l1, 'asin')\n",
    "print(student2)"
   ]
  },
  {
   "cell_type": "code",
   "execution_count": 40,
   "metadata": {},
   "outputs": [
    {
     "name": "stdout",
     "output_type": "stream",
     "text": [
      "('asin', 'asin', 'asin', 'asin')\n"
     ]
    }
   ],
   "source": [
    "# print values of student2 as tuple\n",
    "\n",
    "print(tuple(student2.values()))"
   ]
  },
  {
   "cell_type": "code",
   "execution_count": 44,
   "metadata": {},
   "outputs": [
    {
     "name": "stdout",
     "output_type": "stream",
     "text": [
      "['std1', 'std4', 'std2', 'std3']\n"
     ]
    }
   ],
   "source": [
    "# print keys of student2 as list\n",
    "\n",
    "print(list(student2.keys()))"
   ]
  },
  {
   "cell_type": "code",
   "execution_count": 12,
   "metadata": {},
   "outputs": [
    {
     "name": "stdout",
     "output_type": "stream",
     "text": [
      "name\n",
      "age\n",
      "courses\n"
     ]
    }
   ],
   "source": [
    "#loop through keys\n",
    "\n",
    "for key in student:\n",
    "    print(key)"
   ]
  },
  {
   "cell_type": "code",
   "execution_count": 17,
   "metadata": {},
   "outputs": [
    {
     "name": "stdout",
     "output_type": "stream",
     "text": [
      "std1\n",
      "18\n",
      "['CS', 'Stat', 'Mathematics']\n"
     ]
    }
   ],
   "source": [
    "# loop through values\n",
    "\n",
    "for key in student:\n",
    "    print(student[key]) #Here key is just like an index number"
   ]
  },
  {
   "cell_type": "code",
   "execution_count": 18,
   "metadata": {},
   "outputs": [
    {
     "name": "stdout",
     "output_type": "stream",
     "text": [
      "name std1\n",
      "age 18\n",
      "courses ['CS', 'Stat', 'Mathematics']\n"
     ]
    }
   ],
   "source": [
    "#loop through keys and values\n",
    "\n",
    "for key, value in student.items():\n",
    "    print(key, value)"
   ]
  },
  {
   "cell_type": "code",
   "execution_count": 19,
   "metadata": {},
   "outputs": [
    {
     "name": "stdout",
     "output_type": "stream",
     "text": [
      "('name', 'std1')\n",
      "('age', 18)\n",
      "('courses', ['CS', 'Stat', 'Mathematics'])\n"
     ]
    }
   ],
   "source": [
    "for key in student.items():   # loop through key but also gets value from .items() the difference\n",
    "    print(key)"
   ]
  },
  {
   "cell_type": "code",
   "execution_count": 47,
   "metadata": {},
   "outputs": [
    {
     "name": "stdout",
     "output_type": "stream",
     "text": [
      "Found\n"
     ]
    }
   ],
   "source": [
    "for i in student:\n",
    "    if i == 'age':\n",
    "        if student[i] == 18:\n",
    "            print(\"Found\")\n",
    "        else:\n",
    "            print(\"Not found\")"
   ]
  },
  {
   "cell_type": "code",
   "execution_count": 53,
   "metadata": {},
   "outputs": [
    {
     "name": "stdout",
     "output_type": "stream",
     "text": [
      "{0: 0, 1: 1, 2: 4, 3: 9, 4: 16, 5: 25, 6: 36, 7: 49, 8: 64, 9: 81}\n",
      "\n",
      "\n",
      "{0, 1, 64, 4, 36, 9, 16, 49, 81, 25}\n",
      "\n",
      "\n",
      "{0: 0, 1: 1, 2: 4, 3: 9, 4: 16, 5: 25, 6: 36, 7: 49, 8: 64, 9: 81}\n"
     ]
    }
   ],
   "source": [
    "# dictionary comprehension\n",
    "\n",
    "dict1 = {}\n",
    "for i in range(10):\n",
    "    dict1[i] = i * i\n",
    "\n",
    "print(dict1)\n",
    "\n",
    "print('\\n')\n",
    "\n",
    "###############\n",
    "\n",
    "dict2 = {i*i for i in range(10)} # output is not dictionary. It is a set\n",
    "print(dict2)\n",
    "\n",
    "print('\\n')\n",
    "\n",
    "dict3 = {i: i*i for i in range(10)} #Now, it is dictionary\n",
    "print(dict3)"
   ]
  },
  {
   "cell_type": "code",
   "execution_count": null,
   "metadata": {},
   "outputs": [],
   "source": []
  }
 ],
 "metadata": {
  "kernelspec": {
   "display_name": "Python 3",
   "language": "python",
   "name": "python3"
  },
  "language_info": {
   "codemirror_mode": {
    "name": "ipython",
    "version": 3
   },
   "file_extension": ".py",
   "mimetype": "text/x-python",
   "name": "python",
   "nbconvert_exporter": "python",
   "pygments_lexer": "ipython3",
   "version": "3.8.5"
  }
 },
 "nbformat": 4,
 "nbformat_minor": 4
}
