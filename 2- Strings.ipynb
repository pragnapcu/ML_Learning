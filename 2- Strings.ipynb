{
 "cells": [
  {
   "cell_type": "code",
   "execution_count": 1,
   "metadata": {},
   "outputs": [
    {
     "name": "stdout",
     "output_type": "stream",
     "text": [
      "python\n"
     ]
    }
   ],
   "source": [
    "# Textual data is represented with strings\n",
    "\n",
    "language = \"python\"\n",
    "\n",
    "print(language)"
   ]
  },
  {
   "cell_type": "code",
   "execution_count": 2,
   "metadata": {},
   "outputs": [
    {
     "name": "stdout",
     "output_type": "stream",
     "text": [
      "6\n"
     ]
    }
   ],
   "source": [
    "# length of string\n",
    "\n",
    "print(len(language))"
   ]
  },
  {
   "cell_type": "code",
   "execution_count": 3,
   "metadata": {},
   "outputs": [
    {
     "name": "stdout",
     "output_type": "stream",
     "text": [
      "p\n",
      "h\n",
      "n\n",
      "pyth\n"
     ]
    }
   ],
   "source": [
    "# Access characters of string\n",
    "# start character is 0 and last character is -1\n",
    "\n",
    "print(language[0])\n",
    "print(language[3])\n",
    "print(language[-1])\n",
    "\n",
    "\n",
    "#####    Access range of characters using slicing  ####\n",
    "\n",
    "print(language[0:4]) #lower bound is inclusive and upper bound is exclusive\n"
   ]
  },
  {
   "cell_type": "code",
   "execution_count": 4,
   "metadata": {},
   "outputs": [
    {
     "name": "stdout",
     "output_type": "stream",
     "text": [
      "p\n",
      "p\n",
      "\n",
      "\n",
      "python\n",
      "pytho\n",
      "\n",
      "\n",
      "\n",
      "pto\n",
      "pto\n",
      "\n",
      "\n",
      "nohtyp\n",
      "\n",
      "\n",
      "pytho\n"
     ]
    }
   ],
   "source": [
    "# string slicing\n",
    "\n",
    "#      p  y  t h  o  n\n",
    "#      0  1  2 3  4  5\n",
    "#     -6 -5 -4-3 -2 -1\n",
    "\n",
    "#list[start:end:step]\n",
    "\n",
    "lang = \"python\"\n",
    "\n",
    "print(lang[0])\n",
    "print(lang[-6])\n",
    "\n",
    "print('\\n')\n",
    "print(lang[0:6])     # default step size is 1\n",
    "print(lang[-6:-1])  # default step size is 1\n",
    "print(lang[5:0])    # would not print anything because default step size is 1\n",
    "\n",
    "print('\\n')\n",
    "print(lang[0:6:2])     # with step size 2\n",
    "print(lang[-6:-1:2])\n",
    "\n",
    "print('\\n')\n",
    "print(lang[::-1])      # reverse string\n",
    "\n",
    "print('\\n')\n",
    "print(lang[0:-1])     # both positive and negative indexes can be used simultaneously"
   ]
  },
  {
   "cell_type": "code",
   "execution_count": 2,
   "metadata": {},
   "outputs": [
    {
     "ename": "TypeError",
     "evalue": "'str' object does not support item assignment",
     "output_type": "error",
     "traceback": [
      "\u001b[0;31m---------------------------------------------------------------------------\u001b[0m",
      "\u001b[0;31mTypeError\u001b[0m                                 Traceback (most recent call last)",
      "\u001b[0;32m<ipython-input-2-a2cd715e0041>\u001b[0m in \u001b[0;36m<module>\u001b[0;34m\u001b[0m\n\u001b[1;32m      1\u001b[0m \u001b[0;31m# String is immutable\u001b[0m\u001b[0;34m\u001b[0m\u001b[0;34m\u001b[0m\u001b[0;34m\u001b[0m\u001b[0m\n\u001b[1;32m      2\u001b[0m \u001b[0;34m\u001b[0m\u001b[0m\n\u001b[0;32m----> 3\u001b[0;31m \u001b[0mlanguage\u001b[0m\u001b[0;34m[\u001b[0m\u001b[0;36m0\u001b[0m\u001b[0;34m]\u001b[0m \u001b[0;34m=\u001b[0m \u001b[0;34m'P'\u001b[0m\u001b[0;34m\u001b[0m\u001b[0;34m\u001b[0m\u001b[0m\n\u001b[0m",
      "\u001b[0;31mTypeError\u001b[0m: 'str' object does not support item assignment"
     ]
    }
   ],
   "source": [
    "# String is immutable\n",
    "# string does not support item assignment. Whole string can be replaced but a part of it can not be modified\n",
    "\n",
    "language[0] = 'P'"
   ]
  },
  {
   "cell_type": "code",
   "execution_count": 5,
   "metadata": {},
   "outputs": [
    {
     "name": "stdout",
     "output_type": "stream",
     "text": [
      "python\n",
      "PYTHON\n",
      "1\n",
      "1\n"
     ]
    }
   ],
   "source": [
    "# Methods\n",
    "\n",
    "print(language.lower())\n",
    "print(language.upper())\n",
    "\n",
    "print(language.count('h'))\n",
    "print(language.count('pyt'))"
   ]
  },
  {
   "cell_type": "code",
   "execution_count": 6,
   "metadata": {},
   "outputs": [
    {
     "name": "stdout",
     "output_type": "stream",
     "text": [
      "3\n",
      "0\n",
      "-1\n"
     ]
    }
   ],
   "source": [
    "print(language.find('h'))\n",
    "print(language.find('pyt'))\n",
    "print(language.find('program')) #If substring is not found, find retuns -1"
   ]
  },
  {
   "cell_type": "code",
   "execution_count": 7,
   "metadata": {},
   "outputs": [
    {
     "name": "stdout",
     "output_type": "stream",
     "text": [
      "2\n",
      "3\n",
      "4\n",
      "5\n"
     ]
    }
   ],
   "source": [
    "# How do I find index of 'thon' in language variable\n",
    "\n",
    "language = \"python\"\n",
    "\n",
    "language.find('thon') # returns only the index of first letter\n",
    "\n",
    "#####\n",
    "item = 'thon' # find index of all 4 characters\n",
    "\n",
    "first_index = language.find(\"thon\")\n",
    "\n",
    "for i in range(len(\"thon\")):\n",
    "    print(first_index + i)"
   ]
  },
  {
   "cell_type": "code",
   "execution_count": 14,
   "metadata": {},
   "outputs": [
    {
     "name": "stdout",
     "output_type": "stream",
     "text": [
      "[0, 7]\n"
     ]
    }
   ],
   "source": [
    "# find all occurences of an element in a list\n",
    "\n",
    "lang1 = \"python program\"\n",
    "p_index = []\n",
    "\n",
    "for i in range(len(lang1)):\n",
    "    if lang1[i] == 'p':\n",
    "        p_index.append(i)\n",
    "        \n",
    "print(p_index)"
   ]
  },
  {
   "cell_type": "code",
   "execution_count": 7,
   "metadata": {},
   "outputs": [
    {
     "name": "stdout",
     "output_type": "stream",
     "text": [
      "3\n"
     ]
    },
    {
     "ename": "ValueError",
     "evalue": "substring not found",
     "output_type": "error",
     "traceback": [
      "\u001b[0;31m---------------------------------------------------------------------------\u001b[0m",
      "\u001b[0;31mValueError\u001b[0m                                Traceback (most recent call last)",
      "\u001b[0;32m<ipython-input-7-7d3ef03c2dfe>\u001b[0m in \u001b[0;36m<module>\u001b[0;34m\u001b[0m\n\u001b[1;32m      1\u001b[0m \u001b[0mprint\u001b[0m\u001b[0;34m(\u001b[0m\u001b[0mlanguage\u001b[0m\u001b[0;34m.\u001b[0m\u001b[0mindex\u001b[0m\u001b[0;34m(\u001b[0m\u001b[0;34m'h'\u001b[0m\u001b[0;34m)\u001b[0m\u001b[0;34m)\u001b[0m\u001b[0;34m\u001b[0m\u001b[0;34m\u001b[0m\u001b[0m\n\u001b[0;32m----> 2\u001b[0;31m \u001b[0mprint\u001b[0m\u001b[0;34m(\u001b[0m\u001b[0mlanguage\u001b[0m\u001b[0;34m.\u001b[0m\u001b[0mindex\u001b[0m\u001b[0;34m(\u001b[0m\u001b[0;34m'program'\u001b[0m\u001b[0;34m)\u001b[0m\u001b[0;34m)\u001b[0m \u001b[0;31m#If substring is not found, index throws error\u001b[0m\u001b[0;34m\u001b[0m\u001b[0;34m\u001b[0m\u001b[0m\n\u001b[0m\u001b[1;32m      3\u001b[0m \u001b[0;34m\u001b[0m\u001b[0m\n\u001b[1;32m      4\u001b[0m \u001b[0;31m# difference between find and index\u001b[0m\u001b[0;34m\u001b[0m\u001b[0;34m\u001b[0m\u001b[0;34m\u001b[0m\u001b[0m\n\u001b[1;32m      5\u001b[0m \u001b[0;31m# find is available only for strings\u001b[0m\u001b[0;34m\u001b[0m\u001b[0;34m\u001b[0m\u001b[0;34m\u001b[0m\u001b[0m\n",
      "\u001b[0;31mValueError\u001b[0m: substring not found"
     ]
    }
   ],
   "source": [
    "print(language.index('h'))\n",
    "print(language.index('program')) #If substring is not found, index throws error\n",
    "\n",
    "# difference between find and index\n",
    "# find is available only for strings \n",
    "# index is available for strings, lists and tuples\n",
    "# If substring is not found, find will return -1 \n",
    "# If substring is not found, while throws error"
   ]
  },
  {
   "cell_type": "code",
   "execution_count": 8,
   "metadata": {},
   "outputs": [
    {
     "name": "stdout",
     "output_type": "stream",
     "text": [
      "program\n",
      "\n",
      "\n",
      "python\n",
      "\n",
      "\n",
      "program\n"
     ]
    }
   ],
   "source": [
    "# replace method takes 2 arguments, returns new string. \n",
    "\n",
    "print(language.replace('python', 'program')) #old and new string\n",
    "\n",
    "\n",
    "# It does not replace in place. Remember string is immutable\n",
    "print('\\n')\n",
    "\n",
    "print(language)\n",
    "\n",
    "# hence, it has to stored in new or same variable\n",
    "\n",
    "language = language.replace('python', 'program')\n",
    "print('\\n')\n",
    "print(language)"
   ]
  },
  {
   "cell_type": "code",
   "execution_count": 15,
   "metadata": {},
   "outputs": [
    {
     "name": "stdout",
     "output_type": "stream",
     "text": [
      "pYTHON\n"
     ]
    }
   ],
   "source": [
    "# .swapcase()\n",
    "\n",
    "lang = \"Python\"\n",
    "\n",
    "print(lang.swapcase())"
   ]
  },
  {
   "cell_type": "code",
   "execution_count": 17,
   "metadata": {},
   "outputs": [
    {
     "data": {
      "text/plain": [
       "<reversed at 0x7fc530230f70>"
      ]
     },
     "execution_count": 17,
     "metadata": {},
     "output_type": "execute_result"
    }
   ],
   "source": [
    "# reversed function\n",
    "\n",
    "reversed(lang)"
   ]
  },
  {
   "cell_type": "code",
   "execution_count": 18,
   "metadata": {},
   "outputs": [
    {
     "name": "stdout",
     "output_type": "stream",
     "text": [
      "n\n",
      "o\n",
      "h\n",
      "t\n",
      "y\n",
      "P\n"
     ]
    }
   ],
   "source": [
    "for i in reversed(lang):\n",
    "    print(i)"
   ]
  },
  {
   "cell_type": "code",
   "execution_count": 21,
   "metadata": {},
   "outputs": [
    {
     "name": "stdout",
     "output_type": "stream",
     "text": [
      "python    \n",
      "    python\n",
      "python\n"
     ]
    }
   ],
   "source": [
    "# .strip()\n",
    "\n",
    "lang = \"    python    \"\n",
    "\n",
    "print(lang.lstrip())\n",
    "print(lang.rstrip())\n",
    "print(lang.strip())"
   ]
  },
  {
   "cell_type": "code",
   "execution_count": 23,
   "metadata": {},
   "outputs": [
    {
     "name": "stdout",
     "output_type": "stream",
     "text": [
      "*******python*******\n"
     ]
    }
   ],
   "source": [
    "# .center()\n",
    "\n",
    "\n",
    "lang = \"python\"\n",
    "print(lang.center(20, '*'))"
   ]
  },
  {
   "cell_type": "code",
   "execution_count": 24,
   "metadata": {},
   "outputs": [
    {
     "name": "stdout",
     "output_type": "stream",
     "text": [
      "python  program\n"
     ]
    }
   ],
   "source": [
    "# .expandtabs()\n",
    "\n",
    "lang = \"python\\tprogram\"\n",
    "print(lang.expandtabs())"
   ]
  },
  {
   "cell_type": "code",
   "execution_count": 45,
   "metadata": {},
   "outputs": [
    {
     "name": "stdout",
     "output_type": "stream",
     "text": [
      "['', 'ython ', 'rogram']\n"
     ]
    }
   ],
   "source": [
    "# .split()\n",
    "\n",
    "lang = \"python program\"\n",
    "print(lang.split('p'))"
   ]
  },
  {
   "cell_type": "code",
   "execution_count": 46,
   "metadata": {},
   "outputs": [
    {
     "name": "stdout",
     "output_type": "stream",
     "text": [
      "('', 'p', 'ython program')\n"
     ]
    }
   ],
   "source": [
    "# .partition()\n",
    "\n",
    "lang = \"python program\"\n",
    "print(lang.partition('p'))"
   ]
  },
  {
   "cell_type": "code",
   "execution_count": 25,
   "metadata": {},
   "outputs": [
    {
     "data": {
      "text/plain": [
       "False"
      ]
     },
     "execution_count": 25,
     "metadata": {},
     "output_type": "execute_result"
    }
   ],
   "source": [
    "# .isupper()\n",
    "\n",
    "lang = \"python\"\n",
    "lang.isupper()"
   ]
  },
  {
   "cell_type": "code",
   "execution_count": 26,
   "metadata": {},
   "outputs": [
    {
     "data": {
      "text/plain": [
       "False"
      ]
     },
     "execution_count": 26,
     "metadata": {},
     "output_type": "execute_result"
    }
   ],
   "source": [
    "# .isspace()\n",
    "\n",
    "lang = \"python\"\n",
    "lang.isspace()"
   ]
  },
  {
   "cell_type": "code",
   "execution_count": 27,
   "metadata": {},
   "outputs": [
    {
     "data": {
      "text/plain": [
       "False"
      ]
     },
     "execution_count": 27,
     "metadata": {},
     "output_type": "execute_result"
    }
   ],
   "source": [
    "# .isdigit()\n",
    "\n",
    "lang = \"python\"\n",
    "lang.isdigit()"
   ]
  },
  {
   "cell_type": "code",
   "execution_count": 29,
   "metadata": {},
   "outputs": [
    {
     "data": {
      "text/plain": [
       "True"
      ]
     },
     "execution_count": 29,
     "metadata": {},
     "output_type": "execute_result"
    }
   ],
   "source": [
    "# .startswith()\n",
    "\n",
    "lang.startswith('p')"
   ]
  },
  {
   "cell_type": "code",
   "execution_count": 30,
   "metadata": {},
   "outputs": [
    {
     "data": {
      "text/plain": [
       "True"
      ]
     },
     "execution_count": 30,
     "metadata": {},
     "output_type": "execute_result"
    }
   ],
   "source": [
    "# .isalnum()\n",
    "\n",
    "lang.isalnum()"
   ]
  },
  {
   "cell_type": "code",
   "execution_count": 31,
   "metadata": {},
   "outputs": [
    {
     "data": {
      "text/plain": [
       "True"
      ]
     },
     "execution_count": 31,
     "metadata": {},
     "output_type": "execute_result"
    }
   ],
   "source": [
    "# .isalpha()\n",
    "\n",
    "lang.isalpha()"
   ]
  },
  {
   "cell_type": "code",
   "execution_count": 32,
   "metadata": {},
   "outputs": [
    {
     "data": {
      "text/plain": [
       "False"
      ]
     },
     "execution_count": 32,
     "metadata": {},
     "output_type": "execute_result"
    }
   ],
   "source": [
    "# .istitle()\n",
    "\n",
    "lang.istitle()"
   ]
  },
  {
   "cell_type": "code",
   "execution_count": 9,
   "metadata": {},
   "outputs": [
    {
     "name": "stdout",
     "output_type": "stream",
     "text": [
      "Hello Python\n"
     ]
    }
   ],
   "source": [
    "# string concatanation\n",
    "\n",
    "greeting = \"Hello\"\n",
    "lang = \"Python\"\n",
    "message = greeting + ' ' + lang\n",
    "\n",
    "print(message)"
   ]
  },
  {
   "cell_type": "code",
   "execution_count": 10,
   "metadata": {},
   "outputs": [
    {
     "name": "stdout",
     "output_type": "stream",
     "text": [
      "Hello, Python. welcome!\n"
     ]
    }
   ],
   "source": [
    "# String formatting\n",
    "# {} are place holders\n",
    "\n",
    "greeting = \"Hello\"\n",
    "lang = \"Python\"\n",
    "message = f'{greeting}, {lang}. welcome!' # f for format\n",
    "\n",
    "print(message)"
   ]
  },
  {
   "cell_type": "code",
   "execution_count": 11,
   "metadata": {},
   "outputs": [
    {
     "name": "stdout",
     "output_type": "stream",
     "text": [
      "Hello, PYTHON. welcome!\n"
     ]
    }
   ],
   "source": [
    "#we can directly implement string methods like upper, lower\n",
    "\n",
    "message = f'{greeting}, {lang.upper()}. welcome!'\n",
    "\n",
    "print(message)"
   ]
  },
  {
   "cell_type": "code",
   "execution_count": 33,
   "metadata": {},
   "outputs": [
    {
     "name": "stdout",
     "output_type": "stream",
     "text": [
      "p\n",
      "y\n",
      "t\n",
      "h\n",
      "o\n",
      "n\n"
     ]
    }
   ],
   "source": [
    "# iterate through a string\n",
    "\n",
    "lang = \"python\"\n",
    "\n",
    "for i in lang:\n",
    "    print(i)"
   ]
  },
  {
   "cell_type": "code",
   "execution_count": 34,
   "metadata": {},
   "outputs": [
    {
     "name": "stdout",
     "output_type": "stream",
     "text": [
      "0\n",
      "1\n",
      "2\n",
      "3\n",
      "4\n",
      "5\n"
     ]
    }
   ],
   "source": [
    "# iterate through index of a string\n",
    "\n",
    "lang = \"python\"\n",
    "\n",
    "for i in range(len(lang)):\n",
    "    print(i)"
   ]
  },
  {
   "cell_type": "code",
   "execution_count": 37,
   "metadata": {},
   "outputs": [
    {
     "name": "stdout",
     "output_type": "stream",
     "text": [
      "p is not a vowel\n",
      "y is not a vowel\n",
      "t is not a vowel\n",
      "h is not a vowel\n",
      "o is a vowel\n",
      "n is not a vowel\n"
     ]
    }
   ],
   "source": [
    "# in operator\n",
    "\n",
    "lang = \"python\"\n",
    "vowels = 'AaEeIiOoUu'\n",
    "\n",
    "for i in lang:\n",
    "    if i in vowels:\n",
    "        print(f'{i} is a vowel')\n",
    "    else:\n",
    "        print(f'{i} is not a vowel')"
   ]
  },
  {
   "cell_type": "code",
   "execution_count": null,
   "metadata": {},
   "outputs": [],
   "source": [
    "# palindrome\n",
    "\n",
    "a = 'malayalam'\n",
    "b = 'nitin'\n",
    "c = 2002\n",
    "d = 'mom'"
   ]
  },
  {
   "cell_type": "code",
   "execution_count": 39,
   "metadata": {},
   "outputs": [
    {
     "name": "stdout",
     "output_type": "stream",
     "text": [
      "Enter a word to check if it's palindrome or not: malayalam\n",
      "palindrome\n"
     ]
    }
   ],
   "source": [
    "# code to check if the word is palindrome or not\n",
    "\n",
    "s = input(\"Enter a word to check if it's palindrome or not: \")\n",
    "sMid = int(len(s)/2)\n",
    "\n",
    "if s[0:sMid] == s[-1:sMid:-1]:\n",
    "    print(\"palindrome\")\n",
    "else:\n",
    "    print(\"not palindrome\")"
   ]
  },
  {
   "cell_type": "code",
   "execution_count": 40,
   "metadata": {},
   "outputs": [
    {
     "name": "stdout",
     "output_type": "stream",
     "text": [
      "Enter a word to check if it's palindrome or not: mom\n",
      "palindrome\n"
     ]
    }
   ],
   "source": [
    "# another way\n",
    "\n",
    "s1 = input(\"Enter a word to check if it's palindrome or not: \")\n",
    "\n",
    "if s1 == s1[::-1]:\n",
    "    print(\"palindrome\")\n",
    "else:\n",
    "    print(\"Not palindrome\")"
   ]
  },
  {
   "cell_type": "code",
   "execution_count": 44,
   "metadata": {},
   "outputs": [
    {
     "name": "stdout",
     "output_type": "stream",
     "text": [
      "3\n",
      "32\n"
     ]
    }
   ],
   "source": [
    "# find the index of second occurence of 'name'\n",
    "# Enumerate() method adds a counter to an iterable and returns it in a form of enumerate object. \n",
    "# This enumerate object can then be used directly in for loops\n",
    "\n",
    "\n",
    "a = \"my name is pragna & my fav lang name is python\"\n",
    "\n",
    "for index, value in enumerate(a):\n",
    "    if a[index:index+len('name')] == 'name':\n",
    "        print(index)"
   ]
  },
  {
   "cell_type": "code",
   "execution_count": null,
   "metadata": {},
   "outputs": [],
   "source": []
  }
 ],
 "metadata": {
  "kernelspec": {
   "display_name": "Python 3",
   "language": "python",
   "name": "python3"
  },
  "language_info": {
   "codemirror_mode": {
    "name": "ipython",
    "version": 3
   },
   "file_extension": ".py",
   "mimetype": "text/x-python",
   "name": "python",
   "nbconvert_exporter": "python",
   "pygments_lexer": "ipython3",
   "version": "3.8.5"
  }
 },
 "nbformat": 4,
 "nbformat_minor": 4
}
