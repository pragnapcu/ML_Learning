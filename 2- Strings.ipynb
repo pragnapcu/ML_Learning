{
 "cells": [
  {
   "cell_type": "code",
   "execution_count": 1,
   "metadata": {},
   "outputs": [
    {
     "name": "stdout",
     "output_type": "stream",
     "text": [
      "python\n"
     ]
    }
   ],
   "source": [
    "# Textual data is represented with strings\n",
    "\n",
    "language = \"python\"\n",
    "\n",
    "print(language)"
   ]
  },
  {
   "cell_type": "code",
   "execution_count": 2,
   "metadata": {},
   "outputs": [
    {
     "name": "stdout",
     "output_type": "stream",
     "text": [
      "6\n"
     ]
    }
   ],
   "source": [
    "# length of string\n",
    "\n",
    "print(len(language))"
   ]
  },
  {
   "cell_type": "code",
   "execution_count": 3,
   "metadata": {},
   "outputs": [
    {
     "name": "stdout",
     "output_type": "stream",
     "text": [
      "p\n",
      "h\n",
      "n\n",
      "pyth\n"
     ]
    }
   ],
   "source": [
    "# Access characters of string\n",
    "# start character is 0 and last character is -1\n",
    "\n",
    "print(language[0])\n",
    "print(language[3])\n",
    "print(language[-1])\n",
    "\n",
    "\n",
    "#####    Access range of characters using slicing  ####\n",
    "\n",
    "print(language[0:4]) #lower bound is inclusive and upper bound is exclusive\n"
   ]
  },
  {
   "cell_type": "code",
   "execution_count": 4,
   "metadata": {},
   "outputs": [
    {
     "name": "stdout",
     "output_type": "stream",
     "text": [
      "p\n",
      "p\n",
      "\n",
      "\n",
      "python\n",
      "pytho\n",
      "\n",
      "\n",
      "\n",
      "pto\n",
      "pto\n",
      "\n",
      "\n",
      "nohtyp\n",
      "\n",
      "\n",
      "pytho\n"
     ]
    }
   ],
   "source": [
    "# string slicing\n",
    "\n",
    "#      p  y  t h  o  n\n",
    "#      0  1  2 3  4  5\n",
    "#     -6 -5 -4-3 -2 -1\n",
    "\n",
    "#list[start:end:step]\n",
    "\n",
    "lang = \"python\"\n",
    "\n",
    "print(lang[0])\n",
    "print(lang[-6])\n",
    "\n",
    "print('\\n')\n",
    "print(lang[0:6])     # default step size is 1\n",
    "print(lang[-6:-1])  # default step size is 1\n",
    "print(lang[5:0])    # would not print anything because default step size is 1\n",
    "\n",
    "print('\\n')\n",
    "print(lang[0:6:2])     # with step size 2\n",
    "print(lang[-6:-1:2])\n",
    "\n",
    "print('\\n')\n",
    "print(lang[::-1])      # reverse string\n",
    "\n",
    "print('\\n')\n",
    "print(lang[0:-1])     # both positive and negative indexes can be used simultaneously"
   ]
  },
  {
   "cell_type": "code",
   "execution_count": null,
   "metadata": {},
   "outputs": [],
   "source": []
  },
  {
   "cell_type": "code",
   "execution_count": 5,
   "metadata": {},
   "outputs": [
    {
     "name": "stdout",
     "output_type": "stream",
     "text": [
      "python\n",
      "PYTHON\n",
      "1\n",
      "1\n"
     ]
    }
   ],
   "source": [
    "# Methods\n",
    "\n",
    "print(language.lower())\n",
    "print(language.upper())\n",
    "\n",
    "print(language.count('h'))\n",
    "print(language.count('pyt'))"
   ]
  },
  {
   "cell_type": "code",
   "execution_count": 6,
   "metadata": {},
   "outputs": [
    {
     "name": "stdout",
     "output_type": "stream",
     "text": [
      "3\n",
      "0\n",
      "-1\n"
     ]
    }
   ],
   "source": [
    "print(language.find('h'))\n",
    "print(language.find('pyt'))\n",
    "print(language.find('program')) #If substring is not found, find retuns -1"
   ]
  },
  {
   "cell_type": "code",
   "execution_count": 7,
   "metadata": {},
   "outputs": [
    {
     "name": "stdout",
     "output_type": "stream",
     "text": [
      "3\n"
     ]
    },
    {
     "ename": "ValueError",
     "evalue": "substring not found",
     "output_type": "error",
     "traceback": [
      "\u001b[0;31m---------------------------------------------------------------------------\u001b[0m",
      "\u001b[0;31mValueError\u001b[0m                                Traceback (most recent call last)",
      "\u001b[0;32m<ipython-input-7-7d3ef03c2dfe>\u001b[0m in \u001b[0;36m<module>\u001b[0;34m\u001b[0m\n\u001b[1;32m      1\u001b[0m \u001b[0mprint\u001b[0m\u001b[0;34m(\u001b[0m\u001b[0mlanguage\u001b[0m\u001b[0;34m.\u001b[0m\u001b[0mindex\u001b[0m\u001b[0;34m(\u001b[0m\u001b[0;34m'h'\u001b[0m\u001b[0;34m)\u001b[0m\u001b[0;34m)\u001b[0m\u001b[0;34m\u001b[0m\u001b[0;34m\u001b[0m\u001b[0m\n\u001b[0;32m----> 2\u001b[0;31m \u001b[0mprint\u001b[0m\u001b[0;34m(\u001b[0m\u001b[0mlanguage\u001b[0m\u001b[0;34m.\u001b[0m\u001b[0mindex\u001b[0m\u001b[0;34m(\u001b[0m\u001b[0;34m'program'\u001b[0m\u001b[0;34m)\u001b[0m\u001b[0;34m)\u001b[0m \u001b[0;31m#If substring is not found, index throws error\u001b[0m\u001b[0;34m\u001b[0m\u001b[0;34m\u001b[0m\u001b[0m\n\u001b[0m\u001b[1;32m      3\u001b[0m \u001b[0;34m\u001b[0m\u001b[0m\n\u001b[1;32m      4\u001b[0m \u001b[0;31m# difference between find and index\u001b[0m\u001b[0;34m\u001b[0m\u001b[0;34m\u001b[0m\u001b[0;34m\u001b[0m\u001b[0m\n\u001b[1;32m      5\u001b[0m \u001b[0;31m# find is available only for strings\u001b[0m\u001b[0;34m\u001b[0m\u001b[0;34m\u001b[0m\u001b[0;34m\u001b[0m\u001b[0m\n",
      "\u001b[0;31mValueError\u001b[0m: substring not found"
     ]
    }
   ],
   "source": [
    "print(language.index('h'))\n",
    "print(language.index('program')) #If substring is not found, index throws error\n",
    "\n",
    "# difference between find and index\n",
    "# find is available only for strings \n",
    "# index is available for strings, lists and tuples\n",
    "# If substring is not found, find will return -1 \n",
    "# If substring is not found, while throws error"
   ]
  },
  {
   "cell_type": "code",
   "execution_count": 8,
   "metadata": {},
   "outputs": [
    {
     "name": "stdout",
     "output_type": "stream",
     "text": [
      "program\n",
      "\n",
      "\n",
      "python\n",
      "\n",
      "\n",
      "program\n"
     ]
    }
   ],
   "source": [
    "# replace method takes 2 arguments, returns new string. \n",
    "\n",
    "print(language.replace('python', 'program')) #old and new string\n",
    "\n",
    "\n",
    "# It does not replace in place.\n",
    "print('\\n')\n",
    "\n",
    "print(language)\n",
    "\n",
    "# hence, it has to stored in new or same variable\n",
    "\n",
    "language = language.replace('python', 'program')\n",
    "print('\\n')\n",
    "print(language)"
   ]
  },
  {
   "cell_type": "code",
   "execution_count": 9,
   "metadata": {},
   "outputs": [
    {
     "name": "stdout",
     "output_type": "stream",
     "text": [
      "Hello Python\n"
     ]
    }
   ],
   "source": [
    "# string concatanation\n",
    "\n",
    "greeting = \"Hello\"\n",
    "lang = \"Python\"\n",
    "message = greeting + ' ' + lang\n",
    "\n",
    "print(message)"
   ]
  },
  {
   "cell_type": "code",
   "execution_count": 10,
   "metadata": {},
   "outputs": [
    {
     "name": "stdout",
     "output_type": "stream",
     "text": [
      "Hello, Python. welcome!\n"
     ]
    }
   ],
   "source": [
    "# String formatting\n",
    "# {} are place holders\n",
    "\n",
    "greeting = \"Hello\"\n",
    "lang = \"Python\"\n",
    "message = f'{greeting}, {lang}. welcome!' # f for format\n",
    "\n",
    "print(message)"
   ]
  },
  {
   "cell_type": "code",
   "execution_count": 11,
   "metadata": {},
   "outputs": [
    {
     "name": "stdout",
     "output_type": "stream",
     "text": [
      "Hello, PYTHON. welcome!\n"
     ]
    }
   ],
   "source": [
    "#we can directly implement string methods like upper, lower\n",
    "\n",
    "message = f'{greeting}, {lang.upper()}. welcome!'\n",
    "\n",
    "print(message)"
   ]
  },
  {
   "cell_type": "code",
   "execution_count": null,
   "metadata": {},
   "outputs": [],
   "source": []
  },
  {
   "cell_type": "code",
   "execution_count": null,
   "metadata": {},
   "outputs": [],
   "source": []
  }
 ],
 "metadata": {
  "kernelspec": {
   "display_name": "Python 3",
   "language": "python",
   "name": "python3"
  },
  "language_info": {
   "codemirror_mode": {
    "name": "ipython",
    "version": 3
   },
   "file_extension": ".py",
   "mimetype": "text/x-python",
   "name": "python",
   "nbconvert_exporter": "python",
   "pygments_lexer": "ipython3",
   "version": "3.8.5"
  }
 },
 "nbformat": 4,
 "nbformat_minor": 4
}
